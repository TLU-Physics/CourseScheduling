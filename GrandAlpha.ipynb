{
 "cells": [
  {
   "cell_type": "code",
   "execution_count": 1,
   "metadata": {},
   "outputs": [],
   "source": [
    "from GrandAlpha import *\n",
    "\n",
    "def compareDicts(initial, modified):\n",
    "    for k, v in initial.items():\n",
    "        if k in modified:\n",
    "            if modified[k] != initial[k]:\n",
    "                print(k, initial[k], 'changed to', k, modified[k])\n",
    "        else:\n",
    "            print('key', k, '(', v, ') was deleted')\n",
    "    for k, v in modified.items():\n",
    "        if k not in initial:\n",
    "            print('key', k, '(', v, ') was added')"
   ]
  },
  {
   "cell_type": "code",
   "execution_count": 2,
   "metadata": {},
   "outputs": [],
   "source": [
    "#schinitFilename = 'init_v1.0.csv'\n",
    "schinitFilename = 'schedule_v1.3mod.csv'\n",
    "conflictsFilename = 'Conflicts.txt'\n",
    "timeConflictsFilename = 'TimeConflicts.txt'\n",
    "ga = GrandAlpha(schinitFilename, conflictsFilename, timeConflictsFilename)"
   ]
  },
  {
   "cell_type": "code",
   "execution_count": 3,
   "metadata": {},
   "outputs": [
    {
     "name": "stdout",
     "output_type": "stream",
     "text": [
      "Reached an impasse when building initial schedule with trying to schedule courses for Rand. Trying again...\n",
      "Reached an impasse when building initial schedule with trying to schedule courses for Chupik. Trying again...\n"
     ]
    }
   ],
   "source": [
    "sch = ga.CreateRandomSchedule()"
   ]
  },
  {
   "cell_type": "code",
   "execution_count": 4,
   "metadata": {},
   "outputs": [
    {
     "data": {
      "text/plain": [
       "34"
      ]
     },
     "execution_count": 4,
     "metadata": {},
     "output_type": "execute_result"
    }
   ],
   "source": [
    "ga.accumulatePenalties(sch)"
   ]
  },
  {
   "cell_type": "code",
   "execution_count": 5,
   "metadata": {
    "scrolled": false
   },
   "outputs": [
    {
     "name": "stdout",
     "output_type": "stream",
     "text": [
      "Reached an impasse when building initial schedule with trying to schedule courses for Chupik. Trying again...\n",
      "Reached an impasse when building initial schedule with trying to schedule courses for Sieben. Trying again...\n",
      "Reached an impasse when building initial schedule with trying to schedule courses for Hager. Trying again...\n",
      "Reached an impasse when building initial schedule with trying to schedule courses for Rand. Trying again...\n",
      "Reached an impasse when building initial schedule with trying to schedule courses for Hager. Trying again...\n",
      "Reached an impasse when building initial schedule with trying to schedule courses for Chupik. Trying again...\n",
      "Reached an impasse when building initial schedule with trying to schedule courses for Sieben. Trying again...\n",
      "Reached an impasse when building initial schedule with trying to schedule courses for Chupik. Trying again...\n",
      "Steps taken: 0    penalties: 57\n",
      "Steps taken: 5000    penalties: 57\n",
      "Steps taken: 10000    penalties: 53\n",
      "Steps taken: 15000    penalties: 40\n",
      "Steps taken: 20000    penalties: 61\n",
      "Steps taken: 25000    penalties: 31\n",
      "Steps taken: 30000    penalties: 40\n",
      "Steps taken: 35000    penalties: 17\n",
      "Steps taken: 40000    penalties: 16\n",
      "Steps taken: 45000    penalties: 12\n",
      "Steps taken: 50000    penalties: 5\n",
      "Steps taken: 55000    penalties: 5\n",
      "Steps taken: 60000    penalties: 5\n",
      "Steps taken: 65000    penalties: 5\n",
      "BIOL414 and CHEM341L conflict with penalty 5\n",
      "Trial 1 gave a schedule with 5 penalties\n",
      "Reached an impasse when building initial schedule with trying to schedule courses for Hager. Trying again...\n",
      "Reached an impasse when building initial schedule with trying to schedule courses for Chupik. Trying again...\n",
      "Reached an impasse when building initial schedule with trying to schedule courses for Chupik. Trying again...\n",
      "Reached an impasse when building initial schedule with trying to schedule courses for Curry. Trying again...\n",
      "Reached an impasse when building initial schedule with trying to schedule courses for Hager. Trying again...\n",
      "Reached an impasse when building initial schedule with trying to schedule courses for Rand. Trying again...\n",
      "Reached an impasse when building initial schedule with trying to schedule courses for Chupik. Trying again...\n",
      "Reached an impasse when building initial schedule with trying to schedule courses for Chupik. Trying again...\n",
      "Steps taken: 0    penalties: 53\n",
      "Steps taken: 5000    penalties: 39\n",
      "Steps taken: 10000    penalties: 52\n",
      "Steps taken: 15000    penalties: 71\n",
      "Steps taken: 20000    penalties: 24\n",
      "Steps taken: 25000    penalties: 31\n",
      "Steps taken: 30000    penalties: 30\n",
      "Steps taken: 35000    penalties: 10\n",
      "Steps taken: 40000    penalties: 10\n",
      "Steps taken: 45000    penalties: 10\n",
      "Steps taken: 50000    penalties: 0\n",
      "Steps taken: 55000    penalties: 0\n",
      "Steps taken: 60000    penalties: 0\n",
      "Steps taken: 65000    penalties: 0\n",
      "Trial 2 gave a schedule with 0 penalties\n",
      "This schedule has 0 penalties. Finishing.\n"
     ]
    }
   ],
   "source": [
    "optsch = ga.findOptimalSchedule(5)"
   ]
  },
  {
   "cell_type": "code",
   "execution_count": 6,
   "metadata": {},
   "outputs": [],
   "source": [
    "ga.exportSch('schedule_v1.5.csv', optsch)"
   ]
  },
  {
   "cell_type": "code",
   "execution_count": 48,
   "metadata": {},
   "outputs": [],
   "source": [
    "ga.exportSchDetail('schedule_v1.5.csv', optsch, addCrossListings = False)"
   ]
  },
  {
   "cell_type": "code",
   "execution_count": 3,
   "metadata": {},
   "outputs": [
    {
     "name": "stdout",
     "output_type": "stream",
     "text": [
      "WARNING: Perez has a conflict between BIOL411 and BIOL422 in the imported schedule.\n",
      "WARNING: Ruane has a conflict between CHEM411 and CHEM412 in the imported schedule.\n"
     ]
    }
   ],
   "source": [
    "optsch = ga.importSch('schedule_v1.3.csv', detail = True)"
   ]
  },
  {
   "cell_type": "code",
   "execution_count": 4,
   "metadata": {},
   "outputs": [
    {
     "name": "stdout",
     "output_type": "stream",
     "text": [
      "WARNING: Perez has a conflict between BIOL411 and BIOL422 in the imported schedule.\n",
      "WARNING: Ruane has a conflict between CHEM411 and CHEM412 in the imported schedule.\n"
     ]
    }
   ],
   "source": [
    "schchange = ga.importSch('schedule_v1.3mod.csv', detail = True)"
   ]
  },
  {
   "cell_type": "code",
   "execution_count": 5,
   "metadata": {},
   "outputs": [
    {
     "name": "stdout",
     "output_type": "stream",
     "text": [
      "ISYS133 TR2:30 changed to ISYS133 ASY\n",
      "CHEM144-1 MWF11:30 changed to CHEM144-1 MWF9\n",
      "CHEM144-2 MWF9 changed to CHEM144-2 MWF11:30\n",
      "STAT374-3 TR1 changed to STAT374-3 TR10:30\n",
      "STAT374-4 TR10:30 changed to STAT374-4 TR1\n"
     ]
    }
   ],
   "source": [
    "compareDicts(optsch, schchange)"
   ]
  },
  {
   "cell_type": "code",
   "execution_count": 6,
   "metadata": {},
   "outputs": [
    {
     "data": {
      "text/plain": [
       "0"
      ]
     },
     "execution_count": 6,
     "metadata": {},
     "output_type": "execute_result"
    }
   ],
   "source": [
    "ga.accumulatePenalties(schchange, verbose = True)"
   ]
  },
  {
   "cell_type": "code",
   "execution_count": 7,
   "metadata": {},
   "outputs": [
    {
     "data": {
      "text/plain": [
       "0"
      ]
     },
     "execution_count": 7,
     "metadata": {},
     "output_type": "execute_result"
    }
   ],
   "source": [
    "ga.accumulatePenalties(optsch, verbose = True)"
   ]
  },
  {
   "cell_type": "code",
   "execution_count": 8,
   "metadata": {},
   "outputs": [],
   "source": [
    "optsch = schchange"
   ]
  },
  {
   "cell_type": "code",
   "execution_count": 9,
   "metadata": {},
   "outputs": [],
   "source": [
    "ga.exportSchDetail('schedule_v1.4.csv', optsch, addCrossListings = True)"
   ]
  },
  {
   "cell_type": "markdown",
   "metadata": {},
   "source": [
    "TODO: classes that have multiple sections ordinarily should not be taught at the same time, although it is not impossible that they could be if there were many sections."
   ]
  },
  {
   "cell_type": "code",
   "execution_count": null,
   "metadata": {},
   "outputs": [],
   "source": []
  }
 ],
 "metadata": {
  "kernelspec": {
   "display_name": "Python 3",
   "language": "python",
   "name": "python3"
  },
  "language_info": {
   "codemirror_mode": {
    "name": "ipython",
    "version": 3
   },
   "file_extension": ".py",
   "mimetype": "text/x-python",
   "name": "python",
   "nbconvert_exporter": "python",
   "pygments_lexer": "ipython3",
   "version": "3.7.4"
  }
 },
 "nbformat": 4,
 "nbformat_minor": 2
}
