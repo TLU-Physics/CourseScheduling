{
 "cells": [
  {
   "cell_type": "code",
   "execution_count": 1,
   "metadata": {},
   "outputs": [],
   "source": [
    "from GrandAlpha import *\n",
    "\n",
    "def compareDicts(initial, modified):\n",
    "    for k, v in initial.items():\n",
    "        if k in modified:\n",
    "            if modified[k] != initial[k]:\n",
    "                print(k, initial[k], 'changed to', k, modified[k])\n",
    "        else:\n",
    "            print('key', k, '(', v, ') was deleted')\n",
    "    for k, v in modified.items():\n",
    "        if k not in initial:\n",
    "            print('key', k, '(', v, ') was added')"
   ]
  },
  {
   "cell_type": "code",
   "execution_count": 2,
   "metadata": {},
   "outputs": [],
   "source": [
    "#schinitFilename = 'init_v0.3.csv'\n",
    "schinitFilename = 'schedule_v1.2mod.csv'\n",
    "conflictsFilename = 'Conflicts.txt'\n",
    "timeConflictsFilename = 'TimeConflicts.txt'\n",
    "ga = GrandAlpha(schinitFilename, conflictsFilename, timeConflictsFilename)"
   ]
  },
  {
   "cell_type": "code",
   "execution_count": 3,
   "metadata": {},
   "outputs": [
    {
     "name": "stdout",
     "output_type": "stream",
     "text": [
      "Reached an impasse when building initial schedule with trying to schedule courses for Chupik. Trying again...\n",
      "Reached an impasse when building initial schedule with trying to schedule courses for Wilson B. Trying again...\n",
      "Reached an impasse when building initial schedule with trying to schedule courses for Wilson B. Trying again...\n"
     ]
    }
   ],
   "source": [
    "sch = ga.CreateRandomSchedule()"
   ]
  },
  {
   "cell_type": "code",
   "execution_count": 4,
   "metadata": {},
   "outputs": [
    {
     "data": {
      "text/plain": [
       "101"
      ]
     },
     "execution_count": 4,
     "metadata": {},
     "output_type": "execute_result"
    }
   ],
   "source": [
    "ga.accumulatePenalties(sch)"
   ]
  },
  {
   "cell_type": "code",
   "execution_count": 3,
   "metadata": {
    "scrolled": false
   },
   "outputs": [
    {
     "name": "stdout",
     "output_type": "stream",
     "text": [
      "Steps taken: 0    penalties: 73\n",
      "Steps taken: 5000    penalties: 50\n",
      "Steps taken: 10000    penalties: 56\n",
      "Steps taken: 15000    penalties: 61\n",
      "Steps taken: 20000    penalties: 25\n",
      "Steps taken: 25000    penalties: 35\n",
      "Steps taken: 30000    penalties: 33\n",
      "Steps taken: 35000    penalties: 26\n",
      "Steps taken: 40000    penalties: 23\n",
      "Steps taken: 45000    penalties: 0\n",
      "Steps taken: 50000    penalties: 0\n",
      "Steps taken: 55000    penalties: 0\n",
      "Steps taken: 60000    penalties: 0\n",
      "Steps taken: 65000    penalties: 0\n",
      "Trial 1 gave a schedule with 0 penalties\n",
      "This schedule has 0 penalties. Finishing.\n"
     ]
    }
   ],
   "source": [
    "optsch = ga.findOptimalSchedule(5)"
   ]
  },
  {
   "cell_type": "code",
   "execution_count": 6,
   "metadata": {},
   "outputs": [],
   "source": [
    "#ga.exportSch('schedule_v1.0.csv', optsch)"
   ]
  },
  {
   "cell_type": "code",
   "execution_count": 4,
   "metadata": {},
   "outputs": [],
   "source": [
    "ga.exportSchDetail('schedule_v1.999.csv', optsch)"
   ]
  },
  {
   "cell_type": "code",
   "execution_count": 3,
   "metadata": {},
   "outputs": [
    {
     "name": "stdout",
     "output_type": "stream",
     "text": [
      "WARNING: Grove has a conflict between BIOL411 and BIOL422 in the imported schedule.\n",
      "WARNING: Grove has a conflict between BIOL411 and BIOL428 in the imported schedule.\n",
      "WARNING: Grove has a conflict between BIOL422 and BIOL428 in the imported schedule.\n",
      "WARNING: Ruane has a conflict between CHEM411 and CHEM412 in the imported schedule.\n"
     ]
    }
   ],
   "source": [
    "optsch = ga.importSch('schedule_v1.2.csv')"
   ]
  },
  {
   "cell_type": "code",
   "execution_count": 6,
   "metadata": {},
   "outputs": [
    {
     "name": "stdout",
     "output_type": "stream",
     "text": [
      "WARNING: Grove has a conflict between BIOL411 and BIOL422 in the imported schedule.\n",
      "WARNING: Grove has a conflict between BIOL411 and BIOL428 in the imported schedule.\n",
      "WARNING: Grove has a conflict between BIOL422 and BIOL428 in the imported schedule.\n",
      "WARNING: Ruane has a conflict between CHEM411 and CHEM412 in the imported schedule.\n"
     ]
    }
   ],
   "source": [
    "schchange = ga.importSch('schedule_v1.2mod.csv')"
   ]
  },
  {
   "cell_type": "code",
   "execution_count": 7,
   "metadata": {},
   "outputs": [
    {
     "name": "stdout",
     "output_type": "stream",
     "text": [
      "BIOL143L-4 R1-4 changed to BIOL143L-4 R6-9\n",
      "BIOL422 F1 changed to BIOL422 F1-2:50\n"
     ]
    }
   ],
   "source": [
    "compareDicts(optsch, schchange)"
   ]
  },
  {
   "cell_type": "code",
   "execution_count": 8,
   "metadata": {},
   "outputs": [
    {
     "data": {
      "text/plain": [
       "0"
      ]
     },
     "execution_count": 8,
     "metadata": {},
     "output_type": "execute_result"
    }
   ],
   "source": [
    "ga.accumulatePenalties(schchange, verbose = True)"
   ]
  },
  {
   "cell_type": "code",
   "execution_count": 9,
   "metadata": {},
   "outputs": [
    {
     "data": {
      "text/plain": [
       "0"
      ]
     },
     "execution_count": 9,
     "metadata": {},
     "output_type": "execute_result"
    }
   ],
   "source": [
    "ga.accumulatePenalties(optsch, verbose = True)"
   ]
  },
  {
   "cell_type": "code",
   "execution_count": 10,
   "metadata": {},
   "outputs": [],
   "source": [
    "optsch = schchange"
   ]
  },
  {
   "cell_type": "code",
   "execution_count": 11,
   "metadata": {},
   "outputs": [],
   "source": [
    "ga.exportSchDetail('schedule_v1.4.csv', optsch)"
   ]
  },
  {
   "cell_type": "markdown",
   "metadata": {},
   "source": [
    "TODO: classes that have multiple sections ordinarily should not be taught at the same time, although it is not impossible that they could be if there were many sections."
   ]
  },
  {
   "cell_type": "code",
   "execution_count": null,
   "metadata": {},
   "outputs": [],
   "source": []
  }
 ],
 "metadata": {
  "kernelspec": {
   "display_name": "Python 3",
   "language": "python",
   "name": "python3"
  },
  "language_info": {
   "codemirror_mode": {
    "name": "ipython",
    "version": 3
   },
   "file_extension": ".py",
   "mimetype": "text/x-python",
   "name": "python",
   "nbconvert_exporter": "python",
   "pygments_lexer": "ipython3",
   "version": "3.7.4"
  }
 },
 "nbformat": 4,
 "nbformat_minor": 2
}
