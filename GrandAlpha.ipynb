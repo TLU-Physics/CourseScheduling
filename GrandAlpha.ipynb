{
 "cells": [
  {
   "cell_type": "code",
   "execution_count": 1,
   "metadata": {},
   "outputs": [],
   "source": [
    "from GrandAlpha import *\n",
    "\n",
    "def compareDicts(initial, modified):\n",
    "    for k, v in initial.items():\n",
    "        if k in modified:\n",
    "            if modified[k] != initial[k]:\n",
    "                print(k, initial[k], 'changed to', k, modified[k])\n",
    "        else:\n",
    "            print('key', k, '(', v, ') was deleted')\n",
    "    for k, v in modified.items():\n",
    "        if k not in initial:\n",
    "            print('key', k, '(', v, ') was added')"
   ]
  },
  {
   "cell_type": "code",
   "execution_count": 8,
   "metadata": {},
   "outputs": [],
   "source": [
    "#schinitFilename = 'schedule_v0.4 init.csv'\n",
    "schinitFilename = 'schedule_v1.2mod.csv'\n",
    "conflictsFilename = 'Conflicts.txt'\n",
    "timeConflictsFilename = 'TimeConflicts.txt'\n",
    "ga = GrandAlpha(schinitFilename, conflictsFilename, timeConflictsFilename)"
   ]
  },
  {
   "cell_type": "code",
   "execution_count": 23,
   "metadata": {},
   "outputs": [],
   "source": [
    "sch = ga.CreateRandomSchedule()"
   ]
  },
  {
   "cell_type": "code",
   "execution_count": 24,
   "metadata": {},
   "outputs": [
    {
     "data": {
      "text/plain": [
       "41"
      ]
     },
     "execution_count": 24,
     "metadata": {},
     "output_type": "execute_result"
    }
   ],
   "source": [
    "ga.accumulatePenalties(sch)"
   ]
  },
  {
   "cell_type": "code",
   "execution_count": 28,
   "metadata": {
    "scrolled": false
   },
   "outputs": [
    {
     "name": "stdout",
     "output_type": "stream",
     "text": [
      "Reached an impasse when building initial schedule with trying to schedule courses for Jean-Francois. Trying again...\n",
      "Steps taken: 0    penalties: 50\n",
      "Steps taken: 5000    penalties: 20\n",
      "Penalties hit 0. Ending...\n",
      "Trial 1 gave a schedule with 0 penalties\n",
      "This schedule has 0 penalties. Finishing.\n"
     ]
    }
   ],
   "source": [
    "optsch = ga.findOptimalSchedule(5)"
   ]
  },
  {
   "cell_type": "code",
   "execution_count": 31,
   "metadata": {},
   "outputs": [],
   "source": [
    "ga.exportSch('schedule_v1.0.csv', optsch)"
   ]
  },
  {
   "cell_type": "code",
   "execution_count": 9,
   "metadata": {},
   "outputs": [
    {
     "name": "stdout",
     "output_type": "stream",
     "text": [
      "WARNING: Ruane has a conflict between CHEM411 and CHEM412 in the imported schedule.\n",
      "WARNING: Abbasian has a conflict between DAST535 and MATH338 in the imported schedule.\n"
     ]
    }
   ],
   "source": [
    "optsch = ga.importSch('schedule_v1.2.csv')"
   ]
  },
  {
   "cell_type": "code",
   "execution_count": 10,
   "metadata": {},
   "outputs": [
    {
     "name": "stdout",
     "output_type": "stream",
     "text": [
      "WARNING: Ruane has a conflict between CHEM411 and CHEM412 in the imported schedule.\n",
      "WARNING: Abbasian has a conflict between DAST535 and MATH338 in the imported schedule.\n"
     ]
    }
   ],
   "source": [
    "schchange = ga.importSch('schedule_v1.2mod.csv')"
   ]
  },
  {
   "cell_type": "code",
   "execution_count": 11,
   "metadata": {},
   "outputs": [
    {
     "name": "stdout",
     "output_type": "stream",
     "text": [
      "NSCI140 MWF9 changed to NSCI140 MWF10:30\n"
     ]
    }
   ],
   "source": [
    "compareDicts(optsch, schchange)"
   ]
  },
  {
   "cell_type": "code",
   "execution_count": 12,
   "metadata": {},
   "outputs": [
    {
     "data": {
      "text/plain": [
       "0"
      ]
     },
     "execution_count": 12,
     "metadata": {},
     "output_type": "execute_result"
    }
   ],
   "source": [
    "ga.accumulatePenalties(schchange, verbose = True)"
   ]
  },
  {
   "cell_type": "code",
   "execution_count": 13,
   "metadata": {},
   "outputs": [
    {
     "data": {
      "text/plain": [
       "0"
      ]
     },
     "execution_count": 13,
     "metadata": {},
     "output_type": "execute_result"
    }
   ],
   "source": [
    "ga.accumulatePenalties(optsch, verbose = True)"
   ]
  },
  {
   "cell_type": "code",
   "execution_count": 14,
   "metadata": {},
   "outputs": [],
   "source": [
    "optsch = schchange"
   ]
  },
  {
   "cell_type": "code",
   "execution_count": 15,
   "metadata": {},
   "outputs": [],
   "source": [
    "ga.exportSch('schedule_v1.3.csv', optsch)"
   ]
  },
  {
   "cell_type": "markdown",
   "metadata": {},
   "source": [
    "TODO: classes that have multiple sections ordinarily should not be taught at the same time, although it is not impossible that they could be if there were many sections."
   ]
  },
  {
   "cell_type": "code",
   "execution_count": null,
   "metadata": {},
   "outputs": [],
   "source": []
  }
 ],
 "metadata": {
  "kernelspec": {
   "display_name": "Python 3 (ipykernel)",
   "language": "python",
   "name": "python3"
  },
  "language_info": {
   "codemirror_mode": {
    "name": "ipython",
    "version": 3
   },
   "file_extension": ".py",
   "mimetype": "text/x-python",
   "name": "python",
   "nbconvert_exporter": "python",
   "pygments_lexer": "ipython3",
   "version": "3.9.12"
  }
 },
 "nbformat": 4,
 "nbformat_minor": 2
}
