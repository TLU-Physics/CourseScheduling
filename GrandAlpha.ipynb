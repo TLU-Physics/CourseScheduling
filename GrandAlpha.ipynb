{
 "cells": [
  {
   "cell_type": "code",
   "execution_count": 1,
   "metadata": {},
   "outputs": [],
   "source": [
    "from GrandAlpha import *\n",
    "\n",
    "def compareDicts(initial, modified):\n",
    "    for k, v in initial.items():\n",
    "        if k in modified:\n",
    "            if modified[k] != initial[k]:\n",
    "                print(k, initial[k], 'changed to', k, modified[k])\n",
    "        else:\n",
    "            print('key', k, '(', v, ') was deleted')\n",
    "    for k, v in modified.items():\n",
    "        if k not in initial:\n",
    "            print('key', k, '(', v, ') was added')"
   ]
  },
  {
   "cell_type": "code",
   "execution_count": 2,
   "metadata": {},
   "outputs": [],
   "source": [
    "# schinitFilename = 'schedule_v0.4 init.csv'\n",
    "schinitFilename = 'schedule_v1.6mod.csv'\n",
    "conflictsFilename = 'Conflicts.txt'\n",
    "timeConflictsFilename = 'TimeConflicts.txt'\n",
    "ga = GrandAlpha(schinitFilename, conflictsFilename, timeConflictsFilename)"
   ]
  },
  {
   "cell_type": "code",
   "execution_count": 4,
   "metadata": {},
   "outputs": [
    {
     "name": "stdout",
     "output_type": "stream",
     "text": [
      "Reached an impasse when building initial schedule with trying to schedule courses for Hijazi. Trying again...\n",
      "Reached an impasse when building initial schedule with trying to schedule courses for Hijazi. Trying again...\n",
      "Reached an impasse when building initial schedule with trying to schedule courses for Hijazi. Trying again...\n",
      "Reached an impasse when building initial schedule with trying to schedule courses for Hijazi. Trying again...\n",
      "Reached an impasse when building initial schedule with trying to schedule courses for Clark. Trying again...\n",
      "Reached an impasse when building initial schedule with trying to schedule courses for Rand. Trying again...\n"
     ]
    }
   ],
   "source": [
    "sch = ga.CreateRandomSchedule()"
   ]
  },
  {
   "cell_type": "code",
   "execution_count": 5,
   "metadata": {},
   "outputs": [
    {
     "data": {
      "text/plain": [
       "80"
      ]
     },
     "execution_count": 5,
     "metadata": {},
     "output_type": "execute_result"
    }
   ],
   "source": [
    "ga.accumulatePenalties(sch)"
   ]
  },
  {
   "cell_type": "code",
   "execution_count": 3,
   "metadata": {},
   "outputs": [
    {
     "name": "stdout",
     "output_type": "stream",
     "text": [
      "Reached an impasse when building initial schedule with trying to schedule courses for Hijazi. Trying again...\n",
      "Reached an impasse when building initial schedule with trying to schedule courses for Rand. Trying again...\n",
      "Steps taken: 0    penalties: 77\n",
      "Steps taken: 5000    penalties: 62\n",
      "Steps taken: 10000    penalties: 49\n",
      "Steps taken: 15000    penalties: 25\n",
      "Steps taken: 20000    penalties: 10\n",
      "Steps taken: 25000    penalties: 2\n",
      "Steps taken: 30000    penalties: 3\n",
      "Steps taken: 35000    penalties: 3\n",
      "Steps taken: 40000    penalties: 2\n",
      "Steps taken: 45000    penalties: 2\n",
      "BIOL432 and BIOL473 conflict with penalty 2\n",
      "Trial 1 gave a schedule with 2 penalties\n"
     ]
    }
   ],
   "source": [
    "optsch = ga.findOptimalSchedule(1)"
   ]
  },
  {
   "cell_type": "code",
   "execution_count": 5,
   "metadata": {},
   "outputs": [],
   "source": [
    "ga.exportSch('schedule_v1.0.csv', optsch)"
   ]
  },
  {
   "cell_type": "code",
   "execution_count": 3,
   "metadata": {},
   "outputs": [
    {
     "name": "stdout",
     "output_type": "stream",
     "text": [
      "WARNING: Grove has a conflict between BIOL332 and BIOL428 in the imported schedule.\n",
      "WARNING: Ruane has a conflict between CHEM411 and CHEM412 in the imported schedule.\n"
     ]
    }
   ],
   "source": [
    "optsch = ga.importSch('schedule_v1.6.csv')"
   ]
  },
  {
   "cell_type": "code",
   "execution_count": 9,
   "metadata": {},
   "outputs": [
    {
     "name": "stdout",
     "output_type": "stream",
     "text": [
      "WARNING: Grove has a conflict between BIOL332 and BIOL428 in the imported schedule.\n",
      "WARNING: Ruane has a conflict between CHEM411 and CHEM412 in the imported schedule.\n"
     ]
    }
   ],
   "source": [
    "schchange = ga.importSch('schedule_v1.6mod.csv')"
   ]
  },
  {
   "cell_type": "code",
   "execution_count": 10,
   "metadata": {},
   "outputs": [
    {
     "name": "stdout",
     "output_type": "stream",
     "text": [
      "PHYS142L W1-4 changed to PHYS142L T1-4\n",
      "PHYS313 T1-4 changed to PHYS313 W1-4\n"
     ]
    }
   ],
   "source": [
    "compareDicts(optsch, schchange)"
   ]
  },
  {
   "cell_type": "code",
   "execution_count": 11,
   "metadata": {},
   "outputs": [
    {
     "name": "stdout",
     "output_type": "stream",
     "text": [
      "BIOL432 and BIOL473 conflict with penalty 2\n",
      "MATH334 and PHYS313 conflict with penalty 5\n"
     ]
    },
    {
     "data": {
      "text/plain": [
       "7"
      ]
     },
     "execution_count": 11,
     "metadata": {},
     "output_type": "execute_result"
    }
   ],
   "source": [
    "ga.accumulatePenalties(schchange, verbose = True)"
   ]
  },
  {
   "cell_type": "code",
   "execution_count": 12,
   "metadata": {},
   "outputs": [
    {
     "name": "stdout",
     "output_type": "stream",
     "text": [
      "BIOL432 and BIOL473 conflict with penalty 2\n"
     ]
    },
    {
     "data": {
      "text/plain": [
       "2"
      ]
     },
     "execution_count": 12,
     "metadata": {},
     "output_type": "execute_result"
    }
   ],
   "source": [
    "ga.accumulatePenalties(optsch, verbose = True)"
   ]
  },
  {
   "cell_type": "code",
   "execution_count": 56,
   "metadata": {},
   "outputs": [],
   "source": [
    "optsch = schchange"
   ]
  },
  {
   "cell_type": "code",
   "execution_count": 57,
   "metadata": {},
   "outputs": [],
   "source": [
    "ga.exportSch('schedule_v1.6.csv', optsch)"
   ]
  },
  {
   "cell_type": "markdown",
   "metadata": {},
   "source": [
    "TODO: classes that have multiple sections ordinarily should not be taught at the same time, although it is not impossible that they could be if there were many sections."
   ]
  },
  {
   "cell_type": "code",
   "execution_count": null,
   "metadata": {},
   "outputs": [],
   "source": []
  }
 ],
 "metadata": {
  "kernelspec": {
   "display_name": "Python 3 (ipykernel)",
   "language": "python",
   "name": "python3"
  },
  "language_info": {
   "codemirror_mode": {
    "name": "ipython",
    "version": 3
   },
   "file_extension": ".py",
   "mimetype": "text/x-python",
   "name": "python",
   "nbconvert_exporter": "python",
   "pygments_lexer": "ipython3",
   "version": "3.10.11"
  }
 },
 "nbformat": 4,
 "nbformat_minor": 4
}
