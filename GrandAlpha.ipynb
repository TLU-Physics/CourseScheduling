{
 "cells": [
  {
   "cell_type": "code",
   "execution_count": 1,
   "metadata": {},
   "outputs": [],
   "source": [
    "from GrandAlpha import *\n",
    "\n",
    "def compareDicts(initial, modified):\n",
    "    for k, v in initial.items():\n",
    "        if k in modified:\n",
    "            if modified[k] != initial[k]:\n",
    "                print(k, initial[k], 'changed to', k, modified[k])\n",
    "        else:\n",
    "            print('key', k, '(', v, ') was deleted')\n",
    "    for k, v in modified.items():\n",
    "        if k not in initial:\n",
    "            print('key', k, '(', v, ') was added')"
   ]
  },
  {
   "cell_type": "code",
   "execution_count": 2,
   "metadata": {},
   "outputs": [],
   "source": [
    "facCourseFilename = 'ProfConflicts.txt'\n",
    "courseTimesFilename = 'Classes.txt'\n",
    "conflictsFilename = 'Conflicts.txt'\n",
    "timeConflictsFilename = 'TimeConflicts.txt'\n",
    "ga = GrandAlpha(facCourseFilename, courseTimesFilename, conflictsFilename, timeConflictsFilename)"
   ]
  },
  {
   "cell_type": "code",
   "execution_count": 3,
   "metadata": {},
   "outputs": [],
   "source": [
    "sch = ga.CreateRandomSchedule()"
   ]
  },
  {
   "cell_type": "code",
   "execution_count": 4,
   "metadata": {},
   "outputs": [
    {
     "data": {
      "text/plain": [
       "24"
      ]
     },
     "execution_count": 4,
     "metadata": {},
     "output_type": "execute_result"
    }
   ],
   "source": [
    "ga.accumulatePenalties(sch)"
   ]
  },
  {
   "cell_type": "code",
   "execution_count": 5,
   "metadata": {},
   "outputs": [
    {
     "name": "stdout",
     "output_type": "stream",
     "text": [
      "Steps taken: 0 penalties: 50\n",
      "Steps taken: 5000 penalties: 28\n",
      "Steps taken: 10000 penalties: 39\n",
      "Steps taken: 15000 penalties: 33\n",
      "Steps taken: 20000 penalties: 25\n",
      "Steps taken: 25000 penalties: 26\n",
      "Steps taken: 30000 penalties: 10\n",
      "Steps taken: 35000 penalties: 13\n",
      "Steps taken: 40000 penalties: 3\n",
      "Steps taken: 45000 penalties: 2\n",
      "Steps taken: 50000 penalties: 1\n",
      "Steps taken: 55000 penalties: 0\n",
      "Steps taken: 60000 penalties: 0\n",
      "Steps taken: 65000 penalties: 0\n",
      "Trial 1 gave a schedule with 0 penalties\n",
      "This schedule has 0 penalties. Finishing.\n"
     ]
    }
   ],
   "source": [
    "optsch = ga.findOptimalSchedule(5)"
   ]
  },
  {
   "cell_type": "code",
   "execution_count": 7,
   "metadata": {},
   "outputs": [],
   "source": [
    "ga.exportSch('schedule_v1.0.csv', optsch)"
   ]
  },
  {
   "cell_type": "code",
   "execution_count": 3,
   "metadata": {},
   "outputs": [],
   "source": [
    "optsch = ga.importSch('schedule_v1.3.csv')"
   ]
  },
  {
   "cell_type": "code",
   "execution_count": 4,
   "metadata": {},
   "outputs": [],
   "source": [
    "schchange = ga.importSch('schedule_v1.4.csv')"
   ]
  },
  {
   "cell_type": "code",
   "execution_count": 5,
   "metadata": {},
   "outputs": [
    {
     "name": "stdout",
     "output_type": "stream",
     "text": [
      "CHEM249L-1 M1-5 changed to CHEM249L-1 T1-5\n",
      "CHEM249L-2 T1-5 changed to CHEM249L-2 R1-5\n"
     ]
    }
   ],
   "source": [
    "compareDicts(optsch, schchange)"
   ]
  },
  {
   "cell_type": "code",
   "execution_count": 6,
   "metadata": {},
   "outputs": [
    {
     "data": {
      "text/plain": [
       "0"
      ]
     },
     "execution_count": 6,
     "metadata": {},
     "output_type": "execute_result"
    }
   ],
   "source": [
    "ga.accumulatePenalties(schchange, verbose = True)"
   ]
  },
  {
   "cell_type": "code",
   "execution_count": 7,
   "metadata": {},
   "outputs": [
    {
     "data": {
      "text/plain": [
       "0"
      ]
     },
     "execution_count": 7,
     "metadata": {},
     "output_type": "execute_result"
    }
   ],
   "source": [
    "ga.accumulatePenalties(optsch, verbose = True)"
   ]
  },
  {
   "cell_type": "code",
   "execution_count": 24,
   "metadata": {},
   "outputs": [],
   "source": [
    "optsch = schchange"
   ]
  },
  {
   "cell_type": "code",
   "execution_count": 25,
   "metadata": {},
   "outputs": [],
   "source": [
    "ga.exportSchDetail('schedule_v1.1 detailed.csv', optsch)"
   ]
  },
  {
   "cell_type": "markdown",
   "metadata": {},
   "source": [
    "TODO: classes that have multiple sections ordinarily should not be taught at the same time, although it is not impossible that they could be if there were many sections."
   ]
  },
  {
   "cell_type": "code",
   "execution_count": null,
   "metadata": {},
   "outputs": [],
   "source": []
  }
 ],
 "metadata": {
  "kernelspec": {
   "display_name": "Python 3",
   "language": "python",
   "name": "python3"
  },
  "language_info": {
   "codemirror_mode": {
    "name": "ipython",
    "version": 3
   },
   "file_extension": ".py",
   "mimetype": "text/x-python",
   "name": "python",
   "nbconvert_exporter": "python",
   "pygments_lexer": "ipython3",
   "version": "3.7.3"
  }
 },
 "nbformat": 4,
 "nbformat_minor": 2
}
