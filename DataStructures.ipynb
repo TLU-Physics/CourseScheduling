{
 "cells": [
  {
   "cell_type": "code",
   "execution_count": 1,
   "metadata": {},
   "outputs": [],
   "source": [
    "from DataStructures import *"
   ]
  },
  {
   "cell_type": "markdown",
   "metadata": {},
   "source": [
    "# Faculty Courses Tests"
   ]
  },
  {
   "cell_type": "code",
   "execution_count": 4,
   "metadata": {},
   "outputs": [],
   "source": [
    "facCourseFile = open('ProfConflicts.txt', 'r')\n",
    "allFacCourses = AllFacultyCourses() # this will be the list of faculty schedules\n",
    "for line in facCourseFile:\n",
    "    if len(line.strip()) > 0 and line.strip()[0] != '#':\n",
    "        allFacCourses.append(FacultyCourses(line))\n",
    "\n",
    "facCourseFile.close()\n",
    "\n",
    "# TODO: Would be a good idea to check the courses in this to double-check that\n",
    "# they are also in the ClassTimes. It is possible that there are extra courses\n",
    "# here, and that would cause problems down the road."
   ]
  },
  {
   "cell_type": "code",
   "execution_count": 7,
   "metadata": {},
   "outputs": [
    {
     "name": "stdout",
     "output_type": "stream",
     "text": [
      "Wilson in Biology has courses BIOL131 BIOL235 BIOL246L-1 BIOL246L-2 BIOL246L-3 BIOL246L-4 "
     ]
    }
   ],
   "source": [
    "allFacCourses.getFacCourses(7).print()"
   ]
  },
  {
   "cell_type": "code",
   "execution_count": 8,
   "metadata": {},
   "outputs": [
    {
     "name": "stdout",
     "output_type": "stream",
     "text": [
      "Sauncy in Physics has courses PHYS240 PHYS240L PHYS313 PHYS384 PHYS384L "
     ]
    }
   ],
   "source": [
    "allFacCourses.getFacCourses(-1).print()"
   ]
  },
  {
   "cell_type": "code",
   "execution_count": 10,
   "metadata": {},
   "outputs": [
    {
     "name": "stdout",
     "output_type": "stream",
     "text": [
      "Rand in Math has courses MATH234 MATH242 MATH241-2 "
     ]
    }
   ],
   "source": [
    "allFacCourses.getFacCourses('Rand').print()"
   ]
  },
  {
   "cell_type": "code",
   "execution_count": null,
   "metadata": {},
   "outputs": [],
   "source": [
    "allFacCourses.print()"
   ]
  },
  {
   "cell_type": "code",
   "execution_count": 16,
   "metadata": {},
   "outputs": [
    {
     "data": {
      "text/plain": [
       "True"
      ]
     },
     "execution_count": 16,
     "metadata": {},
     "output_type": "execute_result"
    }
   ],
   "source": [
    "allFacCourses.getFacCourses(0).contains('BIOL341')"
   ]
  },
  {
   "cell_type": "code",
   "execution_count": 17,
   "metadata": {},
   "outputs": [
    {
     "data": {
      "text/plain": [
       "'Hager'"
      ]
     },
     "execution_count": 17,
     "metadata": {},
     "output_type": "execute_result"
    }
   ],
   "source": [
    "allFacCourses.getFacNameByCourse('MATH241-1')"
   ]
  },
  {
   "cell_type": "code",
   "execution_count": 18,
   "metadata": {},
   "outputs": [
    {
     "data": {
      "text/plain": [
       "'Gustafson'"
      ]
     },
     "execution_count": 18,
     "metadata": {},
     "output_type": "execute_result"
    }
   ],
   "source": [
    "allFacCourses.getFacNameByCourse('BIOL144-2')"
   ]
  },
  {
   "cell_type": "code",
   "execution_count": 19,
   "metadata": {},
   "outputs": [
    {
     "data": {
      "text/plain": [
       "['PHYS142', 'PHYS336', 'PHYS391', 'PHYS438']"
      ]
     },
     "execution_count": 19,
     "metadata": {},
     "output_type": "execute_result"
    }
   ],
   "source": [
    "allFacCourses.getFacOtherCoursesByCourse('PHYS371')"
   ]
  },
  {
   "cell_type": "code",
   "execution_count": 20,
   "metadata": {},
   "outputs": [
    {
     "data": {
      "text/plain": [
       "['MATH133-5']"
      ]
     },
     "execution_count": 20,
     "metadata": {},
     "output_type": "execute_result"
    }
   ],
   "source": [
    "allFacCourses.getFacOtherCoursesByCourse('MATH133-4')"
   ]
  },
  {
   "cell_type": "markdown",
   "metadata": {},
   "source": [
    "# Class Times Tests"
   ]
  },
  {
   "cell_type": "code",
   "execution_count": 21,
   "metadata": {},
   "outputs": [],
   "source": [
    "courseTimesFile = open('ClassesSpring2020.txt', 'r')\n",
    "allCourseTimes = AllCourseTimes() # this will be the list of faculty schedules\n",
    "for line in courseTimesFile:\n",
    "    if len(line.strip()) > 0 and line.strip()[0] != '#':\n",
    "        allCourseTimes.append(CourseTimes(line))\n",
    "\n",
    "courseTimesFile.close()"
   ]
  },
  {
   "cell_type": "code",
   "execution_count": 22,
   "metadata": {},
   "outputs": [
    {
     "name": "stdout",
     "output_type": "stream",
     "text": [
      "BIOL144-2 has available times MWF8 MWF9 MWF10:30 MWF11:30 "
     ]
    }
   ],
   "source": [
    "allCourseTimes.getCourseTimes(5).print()"
   ]
  },
  {
   "cell_type": "code",
   "execution_count": 23,
   "metadata": {},
   "outputs": [
    {
     "name": "stdout",
     "output_type": "stream",
     "text": [
      "PHYS438 has available times F1 "
     ]
    }
   ],
   "source": [
    "allCourseTimes.getCourseTimes(-1).print()"
   ]
  },
  {
   "cell_type": "code",
   "execution_count": 24,
   "metadata": {},
   "outputs": [
    {
     "name": "stdout",
     "output_type": "stream",
     "text": [
      "PHYS336 has available times MWF8 MWF9 MWF10:30 MWF11:30 "
     ]
    }
   ],
   "source": [
    "allCourseTimes.getCourseTimes('PHYS336').print()"
   ]
  },
  {
   "cell_type": "code",
   "execution_count": 25,
   "metadata": {},
   "outputs": [
    {
     "data": {
      "text/plain": [
       "True"
      ]
     },
     "execution_count": 25,
     "metadata": {},
     "output_type": "execute_result"
    }
   ],
   "source": [
    "CourseTimes.isCourseNameMultiSection('PHYS336-1')"
   ]
  },
  {
   "cell_type": "code",
   "execution_count": 26,
   "metadata": {},
   "outputs": [
    {
     "data": {
      "text/plain": [
       "False"
      ]
     },
     "execution_count": 26,
     "metadata": {},
     "output_type": "execute_result"
    }
   ],
   "source": [
    "CourseTimes.isCourseNameMultiSection('PHYS336')"
   ]
  },
  {
   "cell_type": "code",
   "execution_count": 27,
   "metadata": {},
   "outputs": [
    {
     "data": {
      "text/plain": [
       "False"
      ]
     },
     "execution_count": 27,
     "metadata": {},
     "output_type": "execute_result"
    }
   ],
   "source": [
    "allCourseTimes.allCourseTimes[0].isCourseMultiSection()"
   ]
  },
  {
   "cell_type": "code",
   "execution_count": 31,
   "metadata": {},
   "outputs": [
    {
     "data": {
      "text/plain": [
       "True"
      ]
     },
     "execution_count": 31,
     "metadata": {},
     "output_type": "execute_result"
    }
   ],
   "source": [
    "allCourseTimes.allCourseTimes[4].isCourseMultiSection()"
   ]
  },
  {
   "cell_type": "code",
   "execution_count": null,
   "metadata": {},
   "outputs": [],
   "source": [
    "allCourseTimes.print()"
   ]
  },
  {
   "cell_type": "code",
   "execution_count": 33,
   "metadata": {},
   "outputs": [
    {
     "data": {
      "text/plain": [
       "False"
      ]
     },
     "execution_count": 33,
     "metadata": {},
     "output_type": "execute_result"
    }
   ],
   "source": [
    "allCourseTimes.getCourseTimes(0).contains('MWF8')"
   ]
  },
  {
   "cell_type": "code",
   "execution_count": 37,
   "metadata": {},
   "outputs": [
    {
     "data": {
      "text/plain": [
       "False"
      ]
     },
     "execution_count": 37,
     "metadata": {},
     "output_type": "execute_result"
    }
   ],
   "source": [
    "allCourseTimes.getCourseTimes(1).contains('MWF11')"
   ]
  },
  {
   "cell_type": "code",
   "execution_count": 38,
   "metadata": {},
   "outputs": [
    {
     "data": {
      "text/plain": [
       "True"
      ]
     },
     "execution_count": 38,
     "metadata": {},
     "output_type": "execute_result"
    }
   ],
   "source": [
    "allCourseTimes.getCourseTimes(1).contains('MWF11:30')"
   ]
  },
  {
   "cell_type": "code",
   "execution_count": 39,
   "metadata": {},
   "outputs": [
    {
     "data": {
      "text/plain": [
       "True"
      ]
     },
     "execution_count": 39,
     "metadata": {},
     "output_type": "execute_result"
    }
   ],
   "source": [
    "allCourseTimes.getCourseTimes('PHYS336').contains('MWF11:30')"
   ]
  },
  {
   "cell_type": "code",
   "execution_count": null,
   "metadata": {},
   "outputs": [],
   "source": [
    "allCourseTimes.getAllCourses()"
   ]
  },
  {
   "cell_type": "markdown",
   "metadata": {},
   "source": [
    "# Conflicts Tests"
   ]
  },
  {
   "cell_type": "code",
   "execution_count": 59,
   "metadata": {},
   "outputs": [],
   "source": [
    "#conflictsFile = open('../2019 Spring/Conflicts.txt', 'r')\n",
    "conflictsFile = open('Conflicts.txt', 'r')\n",
    "allConflicts = AllConflicts() # this will be the list of faculty schedules\n",
    "for line in conflictsFile:\n",
    "    try:\n",
    "        if len(line.strip()) > 0 and line.strip()[0] != '#':\n",
    "            els = line.strip().split(',')\n",
    "            if len(els) == 2:\n",
    "                allConflicts.add(els[0], els[1])\n",
    "            else:\n",
    "                allConflicts.add(els[0], els[1], els[2])\n",
    "    except:\n",
    "        print('error', line)\n",
    "\n",
    "conflictsFile.close()\n",
    "\n",
    "# TODO: Would be a good idea to check the courses in this to double-check that\n",
    "# they are also in the ClassTimes. It is possible that there are extra courses\n",
    "# here, and that could mean course conflicts are not found."
   ]
  },
  {
   "cell_type": "code",
   "execution_count": null,
   "metadata": {},
   "outputs": [],
   "source": [
    "allConflicts.print()"
   ]
  },
  {
   "cell_type": "code",
   "execution_count": 63,
   "metadata": {},
   "outputs": [
    {
     "data": {
      "text/plain": [
       "5"
      ]
     },
     "execution_count": 63,
     "metadata": {},
     "output_type": "execute_result"
    }
   ],
   "source": [
    "allConflicts.getPenalty('MATH333', 'PHYS371')"
   ]
  },
  {
   "cell_type": "code",
   "execution_count": 64,
   "metadata": {},
   "outputs": [
    {
     "data": {
      "text/plain": [
       "5"
      ]
     },
     "execution_count": 64,
     "metadata": {},
     "output_type": "execute_result"
    }
   ],
   "source": [
    "allConflicts.getPenalty('PHYS371', 'MATH333')"
   ]
  },
  {
   "cell_type": "code",
   "execution_count": 67,
   "metadata": {},
   "outputs": [
    {
     "data": {
      "text/plain": [
       "0"
      ]
     },
     "execution_count": 67,
     "metadata": {},
     "output_type": "execute_result"
    }
   ],
   "source": [
    "allConflicts.getPenalty('MATH333', 'CHEM143')"
   ]
  },
  {
   "cell_type": "markdown",
   "metadata": {},
   "source": [
    "# Time Conflicts Tests"
   ]
  },
  {
   "cell_type": "code",
   "execution_count": 68,
   "metadata": {},
   "outputs": [],
   "source": [
    "timeConflictsFile = open('TimeConflicts.txt', 'r')\n",
    "allTimeConflicts = []\n",
    "for line in timeConflictsFile:\n",
    "    if len(line.strip()) > 0 and line.strip()[0] != '#':\n",
    "        els = line.strip().split(',')\n",
    "        allTimeConflicts.append(TimeConflict(els[0], els[1]))\n",
    "\n",
    "timeConflictsFile.close()"
   ]
  },
  {
   "cell_type": "code",
   "execution_count": null,
   "metadata": {},
   "outputs": [],
   "source": [
    "for conflict in allTimeConflicts:\n",
    "    conflict.print()"
   ]
  },
  {
   "cell_type": "markdown",
   "metadata": {},
   "source": [
    "# Student Courses"
   ]
  },
  {
   "cell_type": "markdown",
   "metadata": {},
   "source": [
    "Removed this input file in a commit on 10/9/2019"
   ]
  },
  {
   "cell_type": "code",
   "execution_count": 45,
   "metadata": {},
   "outputs": [],
   "source": [
    "studentCourseFile = open('StudentSurveys.txt', 'r')\n",
    "allStudentCourses = [] # this will be the list of student schedules\n",
    "for line in studentCourseFile:\n",
    "    if len(line.strip()) > 0 and line.strip()[0] != '#':\n",
    "        allStudentCourses.append(StudentCourses(line))\n",
    "\n",
    "studentCourseFile.close()"
   ]
  },
  {
   "cell_type": "code",
   "execution_count": 46,
   "metadata": {},
   "outputs": [
    {
     "data": {
      "text/plain": [
       "303"
      ]
     },
     "execution_count": 46,
     "metadata": {},
     "output_type": "execute_result"
    }
   ],
   "source": [
    "len(allStudentCourses)"
   ]
  },
  {
   "cell_type": "code",
   "execution_count": 47,
   "metadata": {},
   "outputs": [
    {
     "name": "stdout",
     "output_type": "stream",
     "text": [
      "1 with priority 5 has courses B246 C143 M133 P141 \n",
      "3 with priority 5 has courses B341 B379 C249 S374 \n",
      "4 with priority 20 has courses B379 C249 C437 \n",
      "5 with priority 10 has courses B422 B414 C437 C249 \n",
      "6 with priority 5 has courses C249 P142 S374 \n",
      "7 with priority 10 has courses C249 C435 M242 P142 \n",
      "8 with priority 10 has courses B341 C249 \n",
      "9 with priority 1 has courses B144 M133 \n",
      "10 with priority 1 has courses B144 C144 M133 \n",
      "11 with priority 10 has courses B144 C144 M241 \n",
      "12 with priority 1 has courses B144 C144 M241 \n",
      "13 with priority 1 has courses B144 C144 M133 \n",
      "14 with priority 10 has courses B144 P142 \n",
      "15 with priority 1 has courses B144 C144 M241 \n",
      "16 with priority 5 has courses B144 C143 \n",
      "17 with priority 1 has courses B144 C144 \n",
      "18 with priority 1 has courses B144 C143 \n",
      "19 with priority 10 has courses B144 S374 \n",
      "20 with priority 1 has courses B144 C144 \n",
      "21 with priority 1 has courses B144 C144 \n"
     ]
    }
   ],
   "source": [
    "for i in range(20):\n",
    "    allStudentCourses[i].print()"
   ]
  },
  {
   "cell_type": "code",
   "execution_count": null,
   "metadata": {},
   "outputs": [],
   "source": []
  }
 ],
 "metadata": {
  "kernelspec": {
   "display_name": "Python 3",
   "language": "python",
   "name": "python3"
  },
  "language_info": {
   "codemirror_mode": {
    "name": "ipython",
    "version": 3
   },
   "file_extension": ".py",
   "mimetype": "text/x-python",
   "name": "python",
   "nbconvert_exporter": "python",
   "pygments_lexer": "ipython3",
   "version": "3.7.3"
  }
 },
 "nbformat": 4,
 "nbformat_minor": 2
}
