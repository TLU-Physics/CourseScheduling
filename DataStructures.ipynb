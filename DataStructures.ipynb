{
 "cells": [
  {
   "cell_type": "code",
   "execution_count": 2,
   "metadata": {},
   "outputs": [],
   "source": [
    "from DataStructures import *"
   ]
  },
  {
   "cell_type": "markdown",
   "metadata": {},
   "source": [
    "# Faculty Courses Tests"
   ]
  },
  {
   "cell_type": "code",
   "execution_count": 3,
   "metadata": {},
   "outputs": [],
   "source": [
    "facCourseFile = open('Davis Files/ProfConflictsSpring2018.txt', 'r')\n",
    "allFacCourses = AllFacultyCourses() # this will be the list of faculty schedules\n",
    "for line in facCourseFile:\n",
    "    if len(line.strip()) > 0:\n",
    "        allFacCourses.append(FacultyCourses(line))\n",
    "\n",
    "facCourseFile.close()\n",
    "\n",
    "# TODO: Would be a good idea to check the courses in this to double-check that\n",
    "# they are also in the ClassTimes. It is possible that there are extra courses\n",
    "# here, and that would cause problems down the road."
   ]
  },
  {
   "cell_type": "code",
   "execution_count": 4,
   "metadata": {},
   "outputs": [
    {
     "name": "stdout",
     "output_type": "stream",
     "text": [
      "SAUNCY has courses P240-1 P240L-1 P313-1 P384-1 "
     ]
    }
   ],
   "source": [
    "allFacCourses.getFacCourses(5).print()"
   ]
  },
  {
   "cell_type": "code",
   "execution_count": 5,
   "metadata": {},
   "outputs": [
    {
     "name": "stdout",
     "output_type": "stream",
     "text": [
      "GUSTAFSON has courses B144-1 B144-2 B144L-1 B144L-2 B379-1 "
     ]
    }
   ],
   "source": [
    "allFacCourses.getFacCourses(-1).print()"
   ]
  },
  {
   "cell_type": "code",
   "execution_count": 6,
   "metadata": {},
   "outputs": [
    {
     "name": "stdout",
     "output_type": "stream",
     "text": [
      "RAND has courses M234-1 M241-1 M241-2 "
     ]
    }
   ],
   "source": [
    "allFacCourses.getFacCourses('RAND').print()"
   ]
  },
  {
   "cell_type": "code",
   "execution_count": 7,
   "metadata": {},
   "outputs": [
    {
     "name": "stdout",
     "output_type": "stream",
     "text": [
      "BRAY has courses C122-1 C342-1 C342L-1 C412-1 \n",
      "FRANCOIS has courses C144-2 C147-2 C147L-1 C147L-2 C144L-2 C437-1 \n",
      "WDAVIS has courses C143-1 C144-1 C143L-1 C144L-1 C147-1 \n",
      "RUANE has courses C249-1 C249L-1 C249L-2 C144L-2 C435-1 \n",
      "PSTAFF has courses P142-1 P142L-2 \n",
      "SAUNCY has courses P240-1 P240L-1 P313-1 P384-1 \n",
      "BERGGREN has courses P142L-1 P336-1 P371-1 P391-1 \n",
      "FUCHS has courses P141-1 P141L-1 P144-1 P144L-1 P334-1 \n",
      "CLARK has courses M113-1 M113-2 M130-1 M133-1 M148-1 M148-2 \n",
      "BEICKER has courses M130-2 M133-2 M133-3 M375-1 \n",
      "MSTAFF1 has courses M133-4 \n",
      "MSTAFF2 has courses M133-5 \n",
      "HAGER has courses M136-1 M136-2 M333-1 \n",
      "RAND has courses M234-1 M241-1 M241-2 \n",
      "ABBASIAN has courses S374-1 S375-1 S375-2 \n",
      "SIEBEN has courses M334-1 S374-2 S374-3 M242-1 \n",
      "HIJAZI has courses IS231-1 IS232-1 CS136-1 CS371-1 \n",
      "SHAO has courses IS133-1 IS133-2 \n",
      "WILSON has courses CS238-1 CS239-1 CS379-1 CS436-1 \n",
      "JONAS has courses B246-3 B279-1 B414-1 \n",
      "DEIKE has courses B235-1 \n",
      "GROVE has courses B341-1 B341L-1 B341L-2 B422-1 B432-1 \n",
      "BWILSON has courses B246-1 B246-2 B246L-1 B246L-2 B246L-3 B246L-4 \n",
      "SPRINGS has courses B130-1 B130L-1 \n",
      "PEREZ has courses B245-1 B245-2 B245-3 B471-1 \n",
      "GUSTAFSON has courses B144-1 B144-2 B144L-1 B144L-2 B379-1 \n"
     ]
    }
   ],
   "source": [
    "allFacCourses.print()"
   ]
  },
  {
   "cell_type": "code",
   "execution_count": 8,
   "metadata": {},
   "outputs": [
    {
     "data": {
      "text/plain": [
       "True"
      ]
     },
     "execution_count": 8,
     "metadata": {},
     "output_type": "execute_result"
    }
   ],
   "source": [
    "allFacCourses.getFacCourses(0).contains('C412-1')"
   ]
  },
  {
   "cell_type": "code",
   "execution_count": 9,
   "metadata": {},
   "outputs": [
    {
     "data": {
      "text/plain": [
       "'RAND'"
      ]
     },
     "execution_count": 9,
     "metadata": {},
     "output_type": "execute_result"
    }
   ],
   "source": [
    "allFacCourses.getFacNameByCourse('M241-1')"
   ]
  },
  {
   "cell_type": "code",
   "execution_count": 10,
   "metadata": {},
   "outputs": [
    {
     "data": {
      "text/plain": [
       "'GUSTAFSON'"
      ]
     },
     "execution_count": 10,
     "metadata": {},
     "output_type": "execute_result"
    }
   ],
   "source": [
    "allFacCourses.getFacNameByCourse('B144-2')"
   ]
  },
  {
   "cell_type": "code",
   "execution_count": 11,
   "metadata": {},
   "outputs": [
    {
     "data": {
      "text/plain": [
       "['P142L-1', 'P336-1', 'P391-1']"
      ]
     },
     "execution_count": 11,
     "metadata": {},
     "output_type": "execute_result"
    }
   ],
   "source": [
    "allFacCourses.getFacOtherCoursesByCourse('P371-1')"
   ]
  },
  {
   "cell_type": "code",
   "execution_count": 12,
   "metadata": {},
   "outputs": [
    {
     "data": {
      "text/plain": [
       "[]"
      ]
     },
     "execution_count": 12,
     "metadata": {},
     "output_type": "execute_result"
    }
   ],
   "source": [
    "allFacCourses.getFacOtherCoursesByCourse('M133-4')"
   ]
  },
  {
   "cell_type": "markdown",
   "metadata": {},
   "source": [
    "# Class Times Tests"
   ]
  },
  {
   "cell_type": "code",
   "execution_count": 5,
   "metadata": {},
   "outputs": [],
   "source": [
    "courseTimesFile = open('Davis Files/ClassesSpring2018.txt', 'r')\n",
    "allCourseTimes = AllCourseTimes() # this will be the list of faculty schedules\n",
    "for line in courseTimesFile:\n",
    "    if len(line.strip()) > 0:\n",
    "        allCourseTimes.append(CourseTimes(line))\n",
    "\n",
    "courseTimesFile.close()"
   ]
  },
  {
   "cell_type": "code",
   "execution_count": 3,
   "metadata": {},
   "outputs": [
    {
     "name": "stdout",
     "output_type": "stream",
     "text": [
      "C143-1 has available times MWF10:30 MWF11:30 TR8 TR10:30 "
     ]
    }
   ],
   "source": [
    "allCourseTimes.getCourseTimes(5).print()"
   ]
  },
  {
   "cell_type": "code",
   "execution_count": 4,
   "metadata": {},
   "outputs": [
    {
     "name": "stdout",
     "output_type": "stream",
     "text": [
      "B432-1 has available times MWF8 MWF9 MWF10:30 MWF11:30 TR8 TR10:30 "
     ]
    }
   ],
   "source": [
    "allCourseTimes.getCourseTimes(-1).print()"
   ]
  },
  {
   "cell_type": "code",
   "execution_count": 5,
   "metadata": {},
   "outputs": [
    {
     "name": "stdout",
     "output_type": "stream",
     "text": [
      "P336-1 has available times MWF8 MWF9 MWF10:30 MWF11:30 "
     ]
    }
   ],
   "source": [
    "allCourseTimes.getCourseTimes('P336-1').print()"
   ]
  },
  {
   "cell_type": "code",
   "execution_count": 6,
   "metadata": {},
   "outputs": [
    {
     "name": "stdout",
     "output_type": "stream",
     "text": [
      "C122-1 has available times MWF9 MWF10:30 MWF11:30 \n",
      "C147-1 has available times MWF10:30 MWF11:30 \n",
      "C147-2 has available times MWF9 MWF10:30 MWF11:30 TR8 TR10:30 \n",
      "C147L-1 has available times M1-4 T1-4 W1-4 R1-4 \n",
      "C147L-2 has available times T1-4 W1-4 R1-4 \n",
      "C143-1 has available times MWF10:30 MWF11:30 TR8 TR10:30 \n",
      "C143L-1 has available times M1-4 T1-4 W1-4 R1-4 \n",
      "C144-1 has available times MWF10:30 MWF11:30 TR8 TR10:30 \n",
      "C144-2 has available times MWF8 MWF9 MWF10:30 MWF11:30 TR8 TR10:30 \n",
      "C144L-1 has available times M1-4 T1-4 W1-4 R1-4 \n",
      "C144L-2 has available times M1-4 T1-4 W1-4 R1-4 \n",
      "C249-1 has available times MWF9 MWF10:30 \n",
      "C249L-1 has available times M1-5 T1-5 W1-5 \n",
      "C249L-2 has available times T1-5 W1-5 R1-5 \n",
      "C342-1 has available times MWF8 MWF9 MWF10:30 MWF11:30 TR8 TR10:30 \n",
      "C342L-1 has available times M1-5 T1-5 W1-5 R1-5 \n",
      "C435-1 has available times MWF8 MWF9 MWF10:30 MWF11:30 TR8 TR10:30 \n",
      "C412-1 has available times F2 \n",
      "C437-1 has available times MWF8 MWF9 MWF10:30 MWF11:30 TR8 TR10:30 \n",
      "P141-1 has available times MWF8 MWF9 \n",
      "P141L-1 has available times R1-4 \n",
      "P142-1 has available times MWF8 MWF9 MWF10:30 MWF11:30 \n",
      "P142L-1 has available times M1-4 T1-4 W1-4 R1-4 \n",
      "P142L-2 has available times T1-4 W1-4 R1-4 \n",
      "P144-1 has available times MWF10:30 MWF11:30 \n",
      "P240-1 has available times MWF9 MWF10:30 MWF11:30 \n",
      "P240L-1 has available times M1-5 \n",
      "P313-1 has available times R1-4 \n",
      "P334-1 has available times MWF8 MWF9 \n",
      "P336-1 has available times MWF8 MWF9 MWF10:30 MWF11:30 \n",
      "P371-1 has available times MWF10:30 MWF11:30 \n",
      "P384-1 has available times TR8 TR10:30 \n",
      "P391-1 has available times TR10:30 \n",
      "M113-1 has available times TR8 \n",
      "M113-2 has available times MWF8 \n",
      "M130-1 has available times MWF9 TR10:30 TR1 TR2:30 \n",
      "M130-2 has available times MWF9 TR10:30 TR1 TR2:30 \n",
      "M133-1 has available times MWF9 TR10:30 TR1 TR2:30 \n",
      "M133-2 has available times MWF10:30 \n",
      "M133-3 has available times MW1 \n",
      "M133-4 has available times MWF8 MWF9 MWF10:30 MWF11:30 TR8 TR10:30 \n",
      "M133-5 has available times MWF8 MWF9 MWF10:30 MWF11:30 TR8 TR10:30 \n",
      "M136-1 has available times MWF11:30 MW1 \n",
      "M136-2 has available times TR10:30 \n",
      "M148-1 has available times MWF11:30 \n",
      "M148-2 has available times MWF1 TR10:30 \n",
      "M234-1 has available times TR10:30 TR1 TR2:30 \n",
      "M241-1 has available times MWF11:30 \n",
      "M241-2 has available times MWF1 \n",
      "M242-1 has available times MWF11:30 \n",
      "M333-1 has available times MWF8 MWF9 MWF10:30 MWF11:30 TR8 TR10:30 \n",
      "M334-1 has available times TR8 \n",
      "M375-1 has available times TR1 \n",
      "IS133-1 has available times MW1 \n",
      "IS133-2 has available times TR2:30 \n",
      "IS231-1 has available times MWF11:30 \n",
      "IS232-1 has available times MWF9 \n",
      "CS136-1 has available times MWF10:30 \n",
      "CS238-1 has available times TR8 TR10:30 TR1 \n",
      "CS239-1 has available times TR10:30 TR1 \n",
      "CS371-1 has available times TR10:30 \n",
      "CS379-1 has available times MWF9 MWF10:30 MWF11:30 MW1 TR8 TR10:30 TR1 \n",
      "CS436-1 has available times MWF9 MWF10:30 MWF11:30 \n",
      "S374-1 has available times T6 \n",
      "S374-2 has available times TR10:30 \n",
      "S374-3 has available times TR1 \n",
      "S375-1 has available times TR2:30 \n",
      "S375-2 has available times TR10:30 TR1 \n",
      "B130-1 has available times M6 \n",
      "B130L-1 has available times W6 \n",
      "B144-1 has available times MWF9 MWF10:30 MWF11:30 \n",
      "B144-2 has available times MWF10:30 MWF11:30 \n",
      "B144L-1 has available times M1-4 T1-4 W1-4 R1-4 \n",
      "B144L-2 has available times T1-4 W1-4 R1-4 \n",
      "B235-1 has available times MW2:30 \n",
      "B246-1 has available times MWF8 MWF9 MWF10:30 TR10:30 \n",
      "B246-2 has available times MWF8 MWF9 MWF10:30 TR10:30 \n",
      "B246-3 has available times MWF9 MWF10:30 TR8 TR10:30 \n",
      "B246L-1 has available times M1-4 \n",
      "B246L-2 has available times T1-4 \n",
      "B246L-3 has available times W1-4 \n",
      "B246L-4 has available times R1-4 \n",
      "B279-1 has available times MWF9 MWF10:30 TR8 TR10:30 \n",
      "B341-1 has available times MWF8 MWF9 MWF10:30 MWF11:30 TR8 TR10:30 \n",
      "B341L-1 has available times M1-4 T1-4 W1-4 R1-4 \n",
      "B341L-2 has available times T1-4 W1-4 R1-4 \n",
      "B379-1 has available times MW4 \n",
      "B422-1 has available times F1 \n",
      "B414-1 has available times M1-4 T1-4 W1-4 \n",
      "B432-1 has available times MWF8 MWF9 MWF10:30 MWF11:30 TR8 TR10:30 \n"
     ]
    }
   ],
   "source": [
    "allCourseTimes.print()"
   ]
  },
  {
   "cell_type": "code",
   "execution_count": 7,
   "metadata": {},
   "outputs": [
    {
     "data": {
      "text/plain": [
       "False"
      ]
     },
     "execution_count": 7,
     "metadata": {},
     "output_type": "execute_result"
    }
   ],
   "source": [
    "allCourseTimes.getCourseTimes(0).contains('MWF8')"
   ]
  },
  {
   "cell_type": "code",
   "execution_count": 8,
   "metadata": {},
   "outputs": [
    {
     "data": {
      "text/plain": [
       "False"
      ]
     },
     "execution_count": 8,
     "metadata": {},
     "output_type": "execute_result"
    }
   ],
   "source": [
    "allCourseTimes.getCourseTimes(0).contains('MWF11')"
   ]
  },
  {
   "cell_type": "code",
   "execution_count": 9,
   "metadata": {},
   "outputs": [
    {
     "data": {
      "text/plain": [
       "True"
      ]
     },
     "execution_count": 9,
     "metadata": {},
     "output_type": "execute_result"
    }
   ],
   "source": [
    "allCourseTimes.getCourseTimes(0).contains('MWF11:30')"
   ]
  },
  {
   "cell_type": "code",
   "execution_count": 10,
   "metadata": {},
   "outputs": [
    {
     "data": {
      "text/plain": [
       "True"
      ]
     },
     "execution_count": 10,
     "metadata": {},
     "output_type": "execute_result"
    }
   ],
   "source": [
    "allCourseTimes.getCourseTimes('P336-1').contains('MWF11:30')"
   ]
  },
  {
   "cell_type": "code",
   "execution_count": 11,
   "metadata": {},
   "outputs": [
    {
     "data": {
      "text/plain": [
       "['C122-1',\n",
       " 'C147-1',\n",
       " 'C147-2',\n",
       " 'C147L-1',\n",
       " 'C147L-2',\n",
       " 'C143-1',\n",
       " 'C143L-1',\n",
       " 'C144-1',\n",
       " 'C144-2',\n",
       " 'C144L-1',\n",
       " 'C144L-2',\n",
       " 'C249-1',\n",
       " 'C249L-1',\n",
       " 'C249L-2',\n",
       " 'C342-1',\n",
       " 'C342L-1',\n",
       " 'C435-1',\n",
       " 'C412-1',\n",
       " 'C437-1',\n",
       " 'P141-1',\n",
       " 'P141L-1',\n",
       " 'P142-1',\n",
       " 'P142L-1',\n",
       " 'P142L-2',\n",
       " 'P144-1',\n",
       " 'P240-1',\n",
       " 'P240L-1',\n",
       " 'P313-1',\n",
       " 'P334-1',\n",
       " 'P336-1',\n",
       " 'P371-1',\n",
       " 'P384-1',\n",
       " 'P391-1',\n",
       " 'M113-1',\n",
       " 'M113-2',\n",
       " 'M130-1',\n",
       " 'M130-2',\n",
       " 'M133-1',\n",
       " 'M133-2',\n",
       " 'M133-3',\n",
       " 'M133-4',\n",
       " 'M133-5',\n",
       " 'M136-1',\n",
       " 'M136-2',\n",
       " 'M148-1',\n",
       " 'M148-2',\n",
       " 'M234-1',\n",
       " 'M241-1',\n",
       " 'M241-2',\n",
       " 'M242-1',\n",
       " 'M333-1',\n",
       " 'M334-1',\n",
       " 'M375-1',\n",
       " 'IS133-1',\n",
       " 'IS133-2',\n",
       " 'IS231-1',\n",
       " 'IS232-1',\n",
       " 'CS136-1',\n",
       " 'CS238-1',\n",
       " 'CS239-1',\n",
       " 'CS371-1',\n",
       " 'CS379-1',\n",
       " 'CS436-1',\n",
       " 'S374-1',\n",
       " 'S374-2',\n",
       " 'S374-3',\n",
       " 'S375-1',\n",
       " 'S375-2',\n",
       " 'B130-1',\n",
       " 'B130L-1',\n",
       " 'B144-1',\n",
       " 'B144-2',\n",
       " 'B144L-1',\n",
       " 'B144L-2',\n",
       " 'B235-1',\n",
       " 'B246-1',\n",
       " 'B246-2',\n",
       " 'B246-3',\n",
       " 'B246L-1',\n",
       " 'B246L-2',\n",
       " 'B246L-3',\n",
       " 'B246L-4',\n",
       " 'B279-1',\n",
       " 'B341-1',\n",
       " 'B341L-1',\n",
       " 'B341L-2',\n",
       " 'B379-1',\n",
       " 'B422-1',\n",
       " 'B414-1',\n",
       " 'B432-1']"
      ]
     },
     "execution_count": 11,
     "metadata": {},
     "output_type": "execute_result"
    }
   ],
   "source": [
    "allCourseTimes.getAllCourses()"
   ]
  },
  {
   "cell_type": "markdown",
   "metadata": {},
   "source": [
    "# Conflicts Tests"
   ]
  },
  {
   "cell_type": "code",
   "execution_count": 6,
   "metadata": {},
   "outputs": [],
   "source": [
    "conflictsFile = open('Conflicts.txt', 'r')\n",
    "allConflicts = AllConflicts() # this will be the list of faculty schedules\n",
    "for line in conflictsFile:\n",
    "    if len(line.strip()) > 0:\n",
    "        els = line.strip().split(',')\n",
    "        allConflicts.append(els[0], els[1], int(els[2]))\n",
    "\n",
    "conflictsFile.close()\n",
    "\n",
    "# TODO: Would be a good idea to check the courses in this to double-check that\n",
    "# they are also in the ClassTimes. It is possible that there are extra courses\n",
    "# here, and that could mean course conflicts are not found."
   ]
  },
  {
   "cell_type": "code",
   "execution_count": 23,
   "metadata": {},
   "outputs": [
    {
     "name": "stdout",
     "output_type": "stream",
     "text": [
      "M333-1 and P371-1 conflict with priority 10\n",
      "CS238-1 and P371-1 conflict with priority 5\n",
      "C143-1 and CS238-1 conflict with priority 3\n"
     ]
    }
   ],
   "source": [
    "allConflicts.print()"
   ]
  },
  {
   "cell_type": "code",
   "execution_count": 24,
   "metadata": {},
   "outputs": [
    {
     "data": {
      "text/plain": [
       "10"
      ]
     },
     "execution_count": 24,
     "metadata": {},
     "output_type": "execute_result"
    }
   ],
   "source": [
    "allConflicts.getPenalty('M333-1', 'P371-1')"
   ]
  },
  {
   "cell_type": "code",
   "execution_count": 25,
   "metadata": {},
   "outputs": [
    {
     "data": {
      "text/plain": [
       "10"
      ]
     },
     "execution_count": 25,
     "metadata": {},
     "output_type": "execute_result"
    }
   ],
   "source": [
    "allConflicts.getPenalty('P371-1', 'M333-1')"
   ]
  },
  {
   "cell_type": "code",
   "execution_count": 26,
   "metadata": {},
   "outputs": [
    {
     "data": {
      "text/plain": [
       "0"
      ]
     },
     "execution_count": 26,
     "metadata": {},
     "output_type": "execute_result"
    }
   ],
   "source": [
    "allConflicts.getPenalty('M333', 'P371-1')"
   ]
  },
  {
   "cell_type": "code",
   "execution_count": 27,
   "metadata": {},
   "outputs": [
    {
     "data": {
      "text/plain": [
       "0"
      ]
     },
     "execution_count": 27,
     "metadata": {},
     "output_type": "execute_result"
    }
   ],
   "source": [
    "allConflicts.getPenalty('M333-1', 'C143-1')"
   ]
  },
  {
   "cell_type": "markdown",
   "metadata": {},
   "source": [
    "# Other"
   ]
  },
  {
   "cell_type": "code",
   "execution_count": 7,
   "metadata": {},
   "outputs": [],
   "source": [
    "from random import choice"
   ]
  },
  {
   "cell_type": "code",
   "execution_count": 8,
   "metadata": {},
   "outputs": [],
   "source": [
    "def CreateRandomScheduleBasic(allCourseTimes):\n",
    "    return {courseTimes.name: choice(courseTimes.times) for courseTimes in allCourseTimes.allCourseTimes}"
   ]
  },
  {
   "cell_type": "code",
   "execution_count": null,
   "metadata": {},
   "outputs": [],
   "source": [
    "sch = CreateRandomScheduleBasic(allCourseTimes)\n",
    "sch"
   ]
  },
  {
   "cell_type": "code",
   "execution_count": 9,
   "metadata": {},
   "outputs": [],
   "source": [
    "def CreateRandomScheduleTry(allCourseTimes, allFacCourses):\n",
    "    # TODO: take into account multiple sections of same class\n",
    "    sch = {}\n",
    "    for courseTimes in allCourseTimes.allCourseTimes:\n",
    "        otherCoursesToCheck = allFacCourses.getFacOtherCoursesByCourse(courseTimes.name)\n",
    "        otherTimes = []\n",
    "        for course in otherCoursesToCheck:\n",
    "            if course in sch:\n",
    "                otherTimes.append(sch[course])\n",
    "\n",
    "        possibletimes = [time for time in courseTimes.times if time not in otherTimes]\n",
    "        if len(possibletimes) == 0:\n",
    "            print('Reached an impasse with trying to schedule courses for ', allFacCourses.getFacNameByCourse(courseTimes.name), '. Trying again...', sep = '')\n",
    "            return {}\n",
    "\n",
    "        sch[courseTimes.name] = choice(possibletimes)\n",
    "        \n",
    "    return sch"
   ]
  },
  {
   "cell_type": "code",
   "execution_count": 10,
   "metadata": {},
   "outputs": [],
   "source": [
    "def CreateRandomSchedule(allCourseTimes, allFacCourses):\n",
    "    tryCount = 0\n",
    "    while True:\n",
    "        tryCount += 1\n",
    "        if tryCount > 30:\n",
    "            print('Having trouble creating any schedule based on faculty restrictions given')\n",
    "            raise Exception\n",
    "        \n",
    "        sch = CreateRandomScheduleTry(allCourseTimes, allFacCourses)\n",
    "        if len(sch) != 0:\n",
    "            return sch"
   ]
  },
  {
   "cell_type": "code",
   "execution_count": null,
   "metadata": {},
   "outputs": [],
   "source": [
    "sch = CreateRandomSchedule(allCourseTimes, allFacCourses)\n",
    "sch"
   ]
  },
  {
   "cell_type": "code",
   "execution_count": 61,
   "metadata": {},
   "outputs": [],
   "source": [
    "def StepSchedule(sch, allCourseTimes, allFacCourses):\n",
    "    sch = sch.copy()\n",
    "    \n",
    "    tryCount = 0\n",
    "    while True:\n",
    "        tryCount += 1\n",
    "        if tryCount > 30:\n",
    "            print('Having trouble stepping schedule for unknown reason')\n",
    "            raise Exception\n",
    "        \n",
    "        # TODO: take into account multiple sections of same class\n",
    "\n",
    "        courseToChange = choice(list(sch.keys()))\n",
    "        courseTimes = allCourseTimes.getCourseTimes(courseToChange)\n",
    "        currentTime = sch[courseToChange]\n",
    "        \n",
    "        if len(courseTimes.times) == 1: # If the course only has one time slot available, it cannot be changed\n",
    "            tryCount -= 1 # don't count this against the total number of trials\n",
    "            continue\n",
    "\n",
    "        otherCoursesToCheck = allFacCourses.getFacOtherCoursesByCourse(courseToChange)\n",
    "        otherTimes = []\n",
    "        for course in otherCoursesToCheck:\n",
    "            otherTimes.append(sch[course])\n",
    "\n",
    "        possibletimes = [time for time in courseTimes.times if time not in otherTimes and time != currentTime]\n",
    "        if len(possibletimes) != 0:\n",
    "            sch[courseToChange] = choice(possibletimes)\n",
    "            print(tryCount)\n",
    "            return sch"
   ]
  },
  {
   "cell_type": "code",
   "execution_count": 36,
   "metadata": {},
   "outputs": [],
   "source": [
    "def compareDicts(initial, modified):\n",
    "    for k, v in initial.items():\n",
    "        if k in modified:\n",
    "            if modified[k] != initial[k]:\n",
    "                print(k, initial[k], 'changed to', k, modified[k])\n",
    "        else:\n",
    "            print('key', k, '(', v, ') was deleted')\n",
    "    for k, v in modified.items():\n",
    "        if k not in initial:\n",
    "            print('key', k, '(', v, ') was added')"
   ]
  },
  {
   "cell_type": "code",
   "execution_count": 68,
   "metadata": {},
   "outputs": [
    {
     "name": "stdout",
     "output_type": "stream",
     "text": [
      "1\n"
     ]
    }
   ],
   "source": [
    "sch2 = StepSchedule(sch2, allCourseTimes, allFacCourses)\n"
   ]
  },
  {
   "cell_type": "code",
   "execution_count": 69,
   "metadata": {},
   "outputs": [
    {
     "name": "stdout",
     "output_type": "stream",
     "text": [
      "C342L-1 M1-5 changed to C342L-1 W1-5\n",
      "S375-2 TR1 changed to S375-2 TR10:30\n",
      "B246-3 TR8 changed to B246-3 TR10:30\n",
      "B341-1 TR10:30 changed to B341-1 MWF8\n",
      "B432-1 MWF10:30 changed to B432-1 MWF11:30\n"
     ]
    }
   ],
   "source": [
    "compareDicts(sch, sch2)"
   ]
  },
  {
   "cell_type": "code",
   "execution_count": 78,
   "metadata": {},
   "outputs": [],
   "source": [
    "def accumulatePenalties(sch, allConflicts):\n",
    "    # get a dict where the times are the keys and the courses are the values\n",
    "    inv_sch = {}\n",
    "    for k, v in sch.items():\n",
    "        inv_sch.setdefault(v, []).append(k)\n",
    "    \n",
    "    totalPenalties = 0\n",
    "    # TODO: currently assumes that courses must be identical to conflict\n",
    "    for time, courses in inv_sch.items():\n",
    "        for i in range(len(courses)):\n",
    "            for j in range(i + 1, len(courses)):\n",
    "                totalPenalties += allConflicts.getPenalty(courses[i], courses[j])\n",
    "    \n",
    "    return totalPenalties"
   ]
  },
  {
   "cell_type": "code",
   "execution_count": 77,
   "metadata": {},
   "outputs": [
    {
     "name": "stdout",
     "output_type": "stream",
     "text": [
      "MWF9 has ['C122-1', 'C435-1', 'P334-1', 'P336-1', 'M130-1', 'M130-2', 'IS232-1', 'CS436-1', 'B144-1', 'B279-1']\n",
      "MWF11:30 has ['C147-1', 'P142-1', 'P240-1', 'P371-1', 'M148-1', 'M241-1', 'M242-1', 'IS231-1', 'CS379-1']\n",
      "TR8 has ['C147-2', 'M113-1', 'M334-1', 'B246-3']\n",
      "R1-4 has ['C147L-1', 'P141L-1', 'P142L-1', 'P142L-2', 'P313-1', 'B246L-4']\n",
      "T1-4 has ['C147L-2', 'C144L-1', 'B144L-2', 'B246L-2', 'B341L-1']\n",
      "TR10:30 has ['C143-1', 'C144-2', 'P384-1', 'P391-1', 'M133-1', 'M133-4', 'M136-2', 'M234-1', 'CS239-1', 'CS371-1', 'S374-2', 'B246-2', 'B341-1']\n",
      "W1-4 has ['C143L-1', 'C144L-2', 'B246L-3', 'B341L-2']\n",
      "MWF10:30 has ['C144-1', 'C249-1', 'P144-1', 'M133-2', 'M133-5', 'CS136-1', 'B144-2', 'B432-1']\n",
      "W1-5 has ['C249L-1']\n",
      "R1-5 has ['C249L-2']\n",
      "MWF8 has ['C342-1', 'C437-1', 'P141-1', 'M113-2', 'M333-1', 'B246-1']\n",
      "M1-5 has ['C342L-1', 'P240L-1']\n",
      "F2 has ['C412-1']\n",
      "MW1 has ['M133-3', 'M136-1', 'IS133-1']\n",
      "MWF1 has ['M148-2', 'M241-2']\n",
      "TR1 has ['M375-1', 'CS238-1', 'S374-3', 'S375-2']\n",
      "TR2:30 has ['IS133-2', 'S375-1']\n",
      "T6 has ['S374-1']\n",
      "M6 has ['B130-1']\n",
      "W6 has ['B130L-1']\n",
      "M1-4 has ['B144L-1', 'B246L-1', 'B414-1']\n",
      "MW2:30 has ['B235-1']\n",
      "MW4 has ['B379-1']\n",
      "F1 has ['B422-1']\n"
     ]
    }
   ],
   "source": [
    "accumulatePenalties(sch, allConflicts)"
   ]
  },
  {
   "cell_type": "code",
   "execution_count": null,
   "metadata": {},
   "outputs": [],
   "source": []
  }
 ],
 "metadata": {
  "kernelspec": {
   "display_name": "Python 3",
   "language": "python",
   "name": "python3"
  },
  "language_info": {
   "codemirror_mode": {
    "name": "ipython",
    "version": 3
   },
   "file_extension": ".py",
   "mimetype": "text/x-python",
   "name": "python",
   "nbconvert_exporter": "python",
   "pygments_lexer": "ipython3",
   "version": "3.6.4"
  }
 },
 "nbformat": 4,
 "nbformat_minor": 2
}
