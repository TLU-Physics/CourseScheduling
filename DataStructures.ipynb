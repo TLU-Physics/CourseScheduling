{
 "cells": [
  {
   "cell_type": "code",
   "execution_count": 1,
   "metadata": {},
   "outputs": [],
   "source": [
    "from DataStructures import *"
   ]
  },
  {
   "cell_type": "markdown",
   "metadata": {},
   "source": [
    "# Faculty Courses Tests"
   ]
  },
  {
   "cell_type": "code",
   "execution_count": 2,
   "metadata": {},
   "outputs": [],
   "source": [
    "facCourseFile = open('Davis Files/ProfConflictsSpring2018.txt', 'r')\n",
    "allFacCourses = AllFacultyCourses() # this will be the list of faculty schedules\n",
    "for line in facCourseFile:\n",
    "    if len(line.strip()) > 0:\n",
    "        allFacCourses.append(FacultyCourses(line))\n",
    "\n",
    "facCourseFile.close()\n",
    "\n",
    "# TODO: Would be a good idea to check the courses in this to double-check that\n",
    "# they are also in the ClassTimes. It is possible that there are extra courses\n",
    "# here, and that would cause problems down the road."
   ]
  },
  {
   "cell_type": "code",
   "execution_count": 3,
   "metadata": {},
   "outputs": [
    {
     "name": "stdout",
     "output_type": "stream",
     "text": [
      "SAUNCY in Physics has courses P240-1 P240L-1 P313-1 P384-1 "
     ]
    }
   ],
   "source": [
    "allFacCourses.getFacCourses(5).print()"
   ]
  },
  {
   "cell_type": "code",
   "execution_count": 4,
   "metadata": {},
   "outputs": [
    {
     "name": "stdout",
     "output_type": "stream",
     "text": [
      "GUSTAFSON in Biology has courses B144-1 B144-2 B144L-1 B144L-2 B379-1 "
     ]
    }
   ],
   "source": [
    "allFacCourses.getFacCourses(-1).print()"
   ]
  },
  {
   "cell_type": "code",
   "execution_count": 5,
   "metadata": {},
   "outputs": [
    {
     "name": "stdout",
     "output_type": "stream",
     "text": [
      "RAND in Math has courses M234-1 M241-1 M241-2 "
     ]
    }
   ],
   "source": [
    "allFacCourses.getFacCourses('RAND').print()"
   ]
  },
  {
   "cell_type": "code",
   "execution_count": 6,
   "metadata": {},
   "outputs": [
    {
     "name": "stdout",
     "output_type": "stream",
     "text": [
      "BRAY in Chemistry has courses C122-1 C342-1 C342L-1 C412-1 \n",
      "FRANCOIS in Chemistry has courses C144-2 C147-2 C147L-1 C147L-2 C144L-2 C437-1 \n",
      "WDAVIS in Chemistry has courses C143-1 C144-1 C143L-1 C144L-1 C147-1 \n",
      "RUANE in Chemistry has courses C249-1 C249L-1 C249L-2 C144L-2 C435-1 \n",
      "PSTAFF in Physics has courses P142-1 P142L-2 \n",
      "SAUNCY in Physics has courses P240-1 P240L-1 P313-1 P384-1 \n",
      "BERGGREN in Physics has courses P142L-1 P336-1 P371-1 P391-1 \n",
      "FUCHS in Physics has courses P141-1 P141L-1 P144-1 P334-1 \n",
      "CLARK in Math has courses M113-1 M113-2 M130-1 M133-1 M148-1 M148-2 \n",
      "BEICKER in Math has courses M130-2 M133-2 M133-3 M375-1 \n",
      "MSTAFF1 in Math has courses M133-4 \n",
      "MSTAFF2 in Math has courses M133-5 \n",
      "HAGER in Math has courses M136-1 M136-2 M333-1 \n",
      "RAND in Math has courses M234-1 M241-1 M241-2 \n",
      "ABBASIAN in Math has courses S374-1 S375-1 S375-2 \n",
      "SIEBEN in Math has courses M334-1 S374-2 S374-3 M242-1 \n",
      "HIJAZI in Computer Science has courses IS231-1 IS232-1 CS136-1 CS371-1 \n",
      "SHAO in Computer Science has courses IS133-1 IS133-2 \n",
      "WILSON in Computer Science has courses CS238-1 CS239-1 CS379-1 CS436-1 \n",
      "JONAS in Biology has courses B246-3 B279-1 B414-1 \n",
      "DEIKE in Biology has courses B235-1 \n",
      "GROVE in Biology has courses B341-1 B341L-1 B341L-2 B422-1 B432-1 \n",
      "BWILSON in Biology has courses B246-1 B246-2 B246L-1 B246L-2 B246L-3 B246L-4 \n",
      "SPRINGS in Biology has courses B130-1 B130L-1 \n",
      "GUSTAFSON in Biology has courses B144-1 B144-2 B144L-1 B144L-2 B379-1 \n"
     ]
    }
   ],
   "source": [
    "allFacCourses.print()"
   ]
  },
  {
   "cell_type": "code",
   "execution_count": 7,
   "metadata": {},
   "outputs": [
    {
     "data": {
      "text/plain": [
       "True"
      ]
     },
     "execution_count": 7,
     "metadata": {},
     "output_type": "execute_result"
    }
   ],
   "source": [
    "allFacCourses.getFacCourses(0).contains('C412-1')"
   ]
  },
  {
   "cell_type": "code",
   "execution_count": 8,
   "metadata": {},
   "outputs": [
    {
     "data": {
      "text/plain": [
       "'RAND'"
      ]
     },
     "execution_count": 8,
     "metadata": {},
     "output_type": "execute_result"
    }
   ],
   "source": [
    "allFacCourses.getFacNameByCourse('M241-1')"
   ]
  },
  {
   "cell_type": "code",
   "execution_count": 9,
   "metadata": {},
   "outputs": [
    {
     "data": {
      "text/plain": [
       "'GUSTAFSON'"
      ]
     },
     "execution_count": 9,
     "metadata": {},
     "output_type": "execute_result"
    }
   ],
   "source": [
    "allFacCourses.getFacNameByCourse('B144-2')"
   ]
  },
  {
   "cell_type": "code",
   "execution_count": 10,
   "metadata": {},
   "outputs": [
    {
     "data": {
      "text/plain": [
       "['P142L-1', 'P336-1', 'P391-1']"
      ]
     },
     "execution_count": 10,
     "metadata": {},
     "output_type": "execute_result"
    }
   ],
   "source": [
    "allFacCourses.getFacOtherCoursesByCourse('P371-1')"
   ]
  },
  {
   "cell_type": "code",
   "execution_count": 11,
   "metadata": {},
   "outputs": [
    {
     "data": {
      "text/plain": [
       "[]"
      ]
     },
     "execution_count": 11,
     "metadata": {},
     "output_type": "execute_result"
    }
   ],
   "source": [
    "allFacCourses.getFacOtherCoursesByCourse('M133-4')"
   ]
  },
  {
   "cell_type": "markdown",
   "metadata": {},
   "source": [
    "# Class Times Tests"
   ]
  },
  {
   "cell_type": "code",
   "execution_count": 85,
   "metadata": {},
   "outputs": [],
   "source": [
    "courseTimesFile = open('Davis Files/ClassesSpring2018.txt', 'r')\n",
    "allCourseTimes = AllCourseTimes() # this will be the list of faculty schedules\n",
    "for line in courseTimesFile:\n",
    "    if len(line.strip()) > 0:\n",
    "        allCourseTimes.append(CourseTimes(line))\n",
    "\n",
    "courseTimesFile.close()"
   ]
  },
  {
   "cell_type": "code",
   "execution_count": 3,
   "metadata": {},
   "outputs": [
    {
     "name": "stdout",
     "output_type": "stream",
     "text": [
      "C143-1 has available times MWF10:30 MWF11:30 TR8 TR10:30 "
     ]
    }
   ],
   "source": [
    "allCourseTimes.getCourseTimes(5).print()"
   ]
  },
  {
   "cell_type": "code",
   "execution_count": 4,
   "metadata": {},
   "outputs": [
    {
     "name": "stdout",
     "output_type": "stream",
     "text": [
      "B432-1 has available times MWF8 MWF9 MWF10:30 MWF11:30 TR8 TR10:30 "
     ]
    }
   ],
   "source": [
    "allCourseTimes.getCourseTimes(-1).print()"
   ]
  },
  {
   "cell_type": "code",
   "execution_count": 5,
   "metadata": {},
   "outputs": [
    {
     "name": "stdout",
     "output_type": "stream",
     "text": [
      "P336-1 has available times MWF8 MWF9 MWF10:30 MWF11:30 "
     ]
    }
   ],
   "source": [
    "allCourseTimes.getCourseTimes('P336-1').print()"
   ]
  },
  {
   "cell_type": "code",
   "execution_count": 6,
   "metadata": {},
   "outputs": [
    {
     "name": "stdout",
     "output_type": "stream",
     "text": [
      "C122-1 has available times MWF9 MWF10:30 MWF11:30 \n",
      "C147-1 has available times MWF10:30 MWF11:30 \n",
      "C147-2 has available times MWF9 MWF10:30 MWF11:30 TR8 TR10:30 \n",
      "C147L-1 has available times M1-4 T1-4 W1-4 R1-4 \n",
      "C147L-2 has available times T1-4 W1-4 R1-4 \n",
      "C143-1 has available times MWF10:30 MWF11:30 TR8 TR10:30 \n",
      "C143L-1 has available times M1-4 T1-4 W1-4 R1-4 \n",
      "C144-1 has available times MWF10:30 MWF11:30 TR8 TR10:30 \n",
      "C144-2 has available times MWF8 MWF9 MWF10:30 MWF11:30 TR8 TR10:30 \n",
      "C144L-1 has available times M1-4 T1-4 W1-4 R1-4 \n",
      "C144L-2 has available times M1-4 T1-4 W1-4 R1-4 \n",
      "C249-1 has available times MWF9 MWF10:30 \n",
      "C249L-1 has available times M1-5 T1-5 W1-5 \n",
      "C249L-2 has available times T1-5 W1-5 R1-5 \n",
      "C342-1 has available times MWF8 MWF9 MWF10:30 MWF11:30 TR8 TR10:30 \n",
      "C342L-1 has available times M1-5 T1-5 W1-5 R1-5 \n",
      "C435-1 has available times MWF8 MWF9 MWF10:30 MWF11:30 TR8 TR10:30 \n",
      "C412-1 has available times F2 \n",
      "C437-1 has available times MWF8 MWF9 MWF10:30 MWF11:30 TR8 TR10:30 \n",
      "P141-1 has available times MWF8 MWF9 \n",
      "P141L-1 has available times R1-4 \n",
      "P142-1 has available times MWF8 MWF9 MWF10:30 MWF11:30 \n",
      "P142L-1 has available times M1-4 T1-4 W1-4 R1-4 \n",
      "P142L-2 has available times T1-4 W1-4 R1-4 \n",
      "P144-1 has available times MWF10:30 MWF11:30 \n",
      "P240-1 has available times MWF9 MWF10:30 MWF11:30 \n",
      "P240L-1 has available times M1-5 \n",
      "P313-1 has available times R1-4 \n",
      "P334-1 has available times MWF8 MWF9 \n",
      "P336-1 has available times MWF8 MWF9 MWF10:30 MWF11:30 \n",
      "P371-1 has available times MWF10:30 MWF11:30 \n",
      "P384-1 has available times TR8 TR10:30 \n",
      "P391-1 has available times TR10:30 \n",
      "M113-1 has available times TR8 \n",
      "M113-2 has available times MWF8 \n",
      "M130-1 has available times MWF9 TR10:30 TR1 TR2:30 \n",
      "M130-2 has available times MWF9 TR10:30 TR1 TR2:30 \n",
      "M133-1 has available times MWF9 TR10:30 TR1 TR2:30 \n",
      "M133-2 has available times MWF10:30 \n",
      "M133-3 has available times MW1 \n",
      "M133-4 has available times MWF8 MWF9 MWF10:30 MWF11:30 TR8 TR10:30 \n",
      "M133-5 has available times MWF8 MWF9 MWF10:30 MWF11:30 TR8 TR10:30 \n",
      "M136-1 has available times MWF11:30 MW1 \n",
      "M136-2 has available times TR10:30 \n",
      "M148-1 has available times MWF11:30 \n",
      "M148-2 has available times MWF1 TR10:30 \n",
      "M234-1 has available times TR10:30 TR1 TR2:30 \n",
      "M241-1 has available times MWF11:30 \n",
      "M241-2 has available times MWF1 \n",
      "M242-1 has available times MWF11:30 \n",
      "M333-1 has available times MWF8 MWF9 MWF10:30 MWF11:30 TR8 TR10:30 \n",
      "M334-1 has available times TR8 \n",
      "M375-1 has available times TR1 \n",
      "IS133-1 has available times MW1 \n",
      "IS133-2 has available times TR2:30 \n",
      "IS231-1 has available times MWF11:30 \n",
      "IS232-1 has available times MWF9 \n",
      "CS136-1 has available times MWF10:30 \n",
      "CS238-1 has available times TR8 TR10:30 TR1 \n",
      "CS239-1 has available times TR10:30 TR1 \n",
      "CS371-1 has available times TR10:30 \n",
      "CS379-1 has available times MWF9 MWF10:30 MWF11:30 MW1 TR8 TR10:30 TR1 \n",
      "CS436-1 has available times MWF9 MWF10:30 MWF11:30 \n",
      "S374-1 has available times T6 \n",
      "S374-2 has available times TR10:30 \n",
      "S374-3 has available times TR1 \n",
      "S375-1 has available times TR2:30 \n",
      "S375-2 has available times TR10:30 TR1 \n",
      "B130-1 has available times M6 \n",
      "B130L-1 has available times W6 \n",
      "B144-1 has available times MWF9 MWF10:30 MWF11:30 \n",
      "B144-2 has available times MWF10:30 MWF11:30 \n",
      "B144L-1 has available times M1-4 T1-4 W1-4 R1-4 \n",
      "B144L-2 has available times T1-4 W1-4 R1-4 \n",
      "B235-1 has available times MW2:30 \n",
      "B246-1 has available times MWF8 MWF9 MWF10:30 TR10:30 \n",
      "B246-2 has available times MWF8 MWF9 MWF10:30 TR10:30 \n",
      "B246-3 has available times MWF9 MWF10:30 TR8 TR10:30 \n",
      "B246L-1 has available times M1-4 \n",
      "B246L-2 has available times T1-4 \n",
      "B246L-3 has available times W1-4 \n",
      "B246L-4 has available times R1-4 \n",
      "B279-1 has available times MWF9 MWF10:30 TR8 TR10:30 \n",
      "B341-1 has available times MWF8 MWF9 MWF10:30 MWF11:30 TR8 TR10:30 \n",
      "B341L-1 has available times M1-4 T1-4 W1-4 R1-4 \n",
      "B341L-2 has available times T1-4 W1-4 R1-4 \n",
      "B379-1 has available times MW4 \n",
      "B422-1 has available times F1 \n",
      "B414-1 has available times M1-4 T1-4 W1-4 \n",
      "B432-1 has available times MWF8 MWF9 MWF10:30 MWF11:30 TR8 TR10:30 \n"
     ]
    }
   ],
   "source": [
    "allCourseTimes.print()"
   ]
  },
  {
   "cell_type": "code",
   "execution_count": 7,
   "metadata": {},
   "outputs": [
    {
     "data": {
      "text/plain": [
       "False"
      ]
     },
     "execution_count": 7,
     "metadata": {},
     "output_type": "execute_result"
    }
   ],
   "source": [
    "allCourseTimes.getCourseTimes(0).contains('MWF8')"
   ]
  },
  {
   "cell_type": "code",
   "execution_count": 8,
   "metadata": {},
   "outputs": [
    {
     "data": {
      "text/plain": [
       "False"
      ]
     },
     "execution_count": 8,
     "metadata": {},
     "output_type": "execute_result"
    }
   ],
   "source": [
    "allCourseTimes.getCourseTimes(0).contains('MWF11')"
   ]
  },
  {
   "cell_type": "code",
   "execution_count": 9,
   "metadata": {},
   "outputs": [
    {
     "data": {
      "text/plain": [
       "True"
      ]
     },
     "execution_count": 9,
     "metadata": {},
     "output_type": "execute_result"
    }
   ],
   "source": [
    "allCourseTimes.getCourseTimes(0).contains('MWF11:30')"
   ]
  },
  {
   "cell_type": "code",
   "execution_count": 10,
   "metadata": {},
   "outputs": [
    {
     "data": {
      "text/plain": [
       "True"
      ]
     },
     "execution_count": 10,
     "metadata": {},
     "output_type": "execute_result"
    }
   ],
   "source": [
    "allCourseTimes.getCourseTimes('P336-1').contains('MWF11:30')"
   ]
  },
  {
   "cell_type": "code",
   "execution_count": 11,
   "metadata": {},
   "outputs": [
    {
     "data": {
      "text/plain": [
       "['C122-1',\n",
       " 'C147-1',\n",
       " 'C147-2',\n",
       " 'C147L-1',\n",
       " 'C147L-2',\n",
       " 'C143-1',\n",
       " 'C143L-1',\n",
       " 'C144-1',\n",
       " 'C144-2',\n",
       " 'C144L-1',\n",
       " 'C144L-2',\n",
       " 'C249-1',\n",
       " 'C249L-1',\n",
       " 'C249L-2',\n",
       " 'C342-1',\n",
       " 'C342L-1',\n",
       " 'C435-1',\n",
       " 'C412-1',\n",
       " 'C437-1',\n",
       " 'P141-1',\n",
       " 'P141L-1',\n",
       " 'P142-1',\n",
       " 'P142L-1',\n",
       " 'P142L-2',\n",
       " 'P144-1',\n",
       " 'P240-1',\n",
       " 'P240L-1',\n",
       " 'P313-1',\n",
       " 'P334-1',\n",
       " 'P336-1',\n",
       " 'P371-1',\n",
       " 'P384-1',\n",
       " 'P391-1',\n",
       " 'M113-1',\n",
       " 'M113-2',\n",
       " 'M130-1',\n",
       " 'M130-2',\n",
       " 'M133-1',\n",
       " 'M133-2',\n",
       " 'M133-3',\n",
       " 'M133-4',\n",
       " 'M133-5',\n",
       " 'M136-1',\n",
       " 'M136-2',\n",
       " 'M148-1',\n",
       " 'M148-2',\n",
       " 'M234-1',\n",
       " 'M241-1',\n",
       " 'M241-2',\n",
       " 'M242-1',\n",
       " 'M333-1',\n",
       " 'M334-1',\n",
       " 'M375-1',\n",
       " 'IS133-1',\n",
       " 'IS133-2',\n",
       " 'IS231-1',\n",
       " 'IS232-1',\n",
       " 'CS136-1',\n",
       " 'CS238-1',\n",
       " 'CS239-1',\n",
       " 'CS371-1',\n",
       " 'CS379-1',\n",
       " 'CS436-1',\n",
       " 'S374-1',\n",
       " 'S374-2',\n",
       " 'S374-3',\n",
       " 'S375-1',\n",
       " 'S375-2',\n",
       " 'B130-1',\n",
       " 'B130L-1',\n",
       " 'B144-1',\n",
       " 'B144-2',\n",
       " 'B144L-1',\n",
       " 'B144L-2',\n",
       " 'B235-1',\n",
       " 'B246-1',\n",
       " 'B246-2',\n",
       " 'B246-3',\n",
       " 'B246L-1',\n",
       " 'B246L-2',\n",
       " 'B246L-3',\n",
       " 'B246L-4',\n",
       " 'B279-1',\n",
       " 'B341-1',\n",
       " 'B341L-1',\n",
       " 'B341L-2',\n",
       " 'B379-1',\n",
       " 'B422-1',\n",
       " 'B414-1',\n",
       " 'B432-1']"
      ]
     },
     "execution_count": 11,
     "metadata": {},
     "output_type": "execute_result"
    }
   ],
   "source": [
    "allCourseTimes.getAllCourses()"
   ]
  },
  {
   "cell_type": "markdown",
   "metadata": {},
   "source": [
    "# Conflicts Tests"
   ]
  },
  {
   "cell_type": "code",
   "execution_count": 86,
   "metadata": {},
   "outputs": [],
   "source": [
    "conflictsFile = open('Conflicts.txt', 'r')\n",
    "allConflicts = AllConflicts() # this will be the list of faculty schedules\n",
    "for line in conflictsFile:\n",
    "    if len(line.strip()) > 0:\n",
    "        els = line.strip().split(',')\n",
    "        allConflicts.append(els[0], els[1], int(els[2]))\n",
    "\n",
    "conflictsFile.close()\n",
    "\n",
    "# TODO: Would be a good idea to check the courses in this to double-check that\n",
    "# they are also in the ClassTimes. It is possible that there are extra courses\n",
    "# here, and that could mean course conflicts are not found."
   ]
  },
  {
   "cell_type": "code",
   "execution_count": 23,
   "metadata": {},
   "outputs": [
    {
     "name": "stdout",
     "output_type": "stream",
     "text": [
      "M333-1 and P371-1 conflict with priority 10\n",
      "CS238-1 and P371-1 conflict with priority 5\n",
      "C143-1 and CS238-1 conflict with priority 3\n"
     ]
    }
   ],
   "source": [
    "allConflicts.print()"
   ]
  },
  {
   "cell_type": "code",
   "execution_count": 24,
   "metadata": {},
   "outputs": [
    {
     "data": {
      "text/plain": [
       "10"
      ]
     },
     "execution_count": 24,
     "metadata": {},
     "output_type": "execute_result"
    }
   ],
   "source": [
    "allConflicts.getPenalty('M333-1', 'P371-1')"
   ]
  },
  {
   "cell_type": "code",
   "execution_count": 25,
   "metadata": {},
   "outputs": [
    {
     "data": {
      "text/plain": [
       "10"
      ]
     },
     "execution_count": 25,
     "metadata": {},
     "output_type": "execute_result"
    }
   ],
   "source": [
    "allConflicts.getPenalty('P371-1', 'M333-1')"
   ]
  },
  {
   "cell_type": "code",
   "execution_count": 26,
   "metadata": {},
   "outputs": [
    {
     "data": {
      "text/plain": [
       "0"
      ]
     },
     "execution_count": 26,
     "metadata": {},
     "output_type": "execute_result"
    }
   ],
   "source": [
    "allConflicts.getPenalty('M333', 'P371-1')"
   ]
  },
  {
   "cell_type": "code",
   "execution_count": 27,
   "metadata": {},
   "outputs": [
    {
     "data": {
      "text/plain": [
       "0"
      ]
     },
     "execution_count": 27,
     "metadata": {},
     "output_type": "execute_result"
    }
   ],
   "source": [
    "allConflicts.getPenalty('M333-1', 'C143-1')"
   ]
  },
  {
   "cell_type": "markdown",
   "metadata": {},
   "source": [
    "# Time Conflicts Tests"
   ]
  },
  {
   "cell_type": "code",
   "execution_count": 2,
   "metadata": {},
   "outputs": [],
   "source": [
    "timeConflictsFile = open('TimeConflicts.txt', 'r')\n",
    "allTimeConflicts = []\n",
    "for line in timeConflictsFile:\n",
    "    if len(line.strip()) > 0:\n",
    "        els = line.strip().split(',')\n",
    "        allTimeConflicts.append(TimeConflict(els[0], els[1]))\n",
    "\n",
    "timeConflictsFile.close()"
   ]
  },
  {
   "cell_type": "code",
   "execution_count": 5,
   "metadata": {},
   "outputs": [
    {
     "name": "stdout",
     "output_type": "stream",
     "text": [
      "M1-4 and M1-5 conflict\n",
      "T1-4 and T1-5 conflict\n",
      "W1-4 and W1-5 conflict\n",
      "R1-4 and R1-5 conflict\n",
      "M1-4 and MW1 conflict\n",
      "MW1 and W1-4 conflict\n",
      "M1-5 and MW1 conflict\n",
      "MW1 and W1-5 conflict\n",
      "M1-4 and MWF1 conflict\n",
      "MWF1 and W1-4 conflict\n",
      "M1-5 and MWF1 conflict\n",
      "MWF1 and W1-5 conflict\n",
      "MW1 and MWF1 conflict\n",
      "M1-4 and MW2:30 conflict\n",
      "MW2:30 and W1-4 conflict\n",
      "M1-5 and MW2:30 conflict\n",
      "MW2:30 and W1-5 conflict\n",
      "M1-5 and MW4 conflict\n",
      "MW4 and W1-5 conflict\n",
      "T1-4 and TR1 conflict\n",
      "R1-4 and TR1 conflict\n",
      "T1-5 and TR1 conflict\n",
      "R1-5 and TR1 conflict\n",
      "T1-4 and TR2:30 conflict\n",
      "R1-4 and TR2:30 conflict\n",
      "T1-5 and TR2:30 conflict\n",
      "R1-5 and TR2:30 conflict\n",
      "MWF10:30 and MWF10:30-12:20 conflict\n",
      "MWF10:30-12:20 and MWF11:30 conflict\n",
      "F1 and MWF1 conflict\n"
     ]
    }
   ],
   "source": [
    "for conflict in allTimeConflicts:\n",
    "    conflict.print()"
   ]
  },
  {
   "cell_type": "code",
   "execution_count": null,
   "metadata": {},
   "outputs": [],
   "source": []
  }
 ],
 "metadata": {
  "kernelspec": {
   "display_name": "Python 3",
   "language": "python",
   "name": "python3"
  },
  "language_info": {
   "codemirror_mode": {
    "name": "ipython",
    "version": 3
   },
   "file_extension": ".py",
   "mimetype": "text/x-python",
   "name": "python",
   "nbconvert_exporter": "python",
   "pygments_lexer": "ipython3",
   "version": "3.6.4"
  }
 },
 "nbformat": 4,
 "nbformat_minor": 2
}
