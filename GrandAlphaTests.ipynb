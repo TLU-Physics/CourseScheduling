{
 "cells": [
  {
   "cell_type": "code",
   "execution_count": 1,
   "metadata": {},
   "outputs": [],
   "source": [
    "from GrandAlpha import *"
   ]
  },
  {
   "cell_type": "code",
   "execution_count": 2,
   "metadata": {},
   "outputs": [],
   "source": [
    "facCourseFilename = 'Davis Files/ProfConflictsSpring2018.txt'\n",
    "courseTimesFilename = 'Davis Files/ClassesSpring2018.txt'\n",
    "conflictsFilename = 'Conflicts.txt'\n",
    "timeConflictsFilename = 'TimeConflicts.txt'\n",
    "ga = GrandAlpha(facCourseFilename, courseTimesFilename, conflictsFilename, timeConflictsFilename)"
   ]
  },
  {
   "cell_type": "code",
   "execution_count": null,
   "metadata": {},
   "outputs": [],
   "source": [
    "sch = ga.CreateRandomScheduleBasic()"
   ]
  },
  {
   "cell_type": "code",
   "execution_count": 3,
   "metadata": {},
   "outputs": [
    {
     "name": "stdout",
     "output_type": "stream",
     "text": [
      "Reached an impasse when building initial schedule with trying to schedule courses for FUCHS. Trying again...\n",
      "Reached an impasse when building initial schedule with trying to schedule courses for FUCHS. Trying again...\n"
     ]
    }
   ],
   "source": [
    "sch = ga.CreateRandomSchedule()"
   ]
  },
  {
   "cell_type": "code",
   "execution_count": 4,
   "metadata": {},
   "outputs": [],
   "source": [
    "def compareDicts(initial, modified):\n",
    "    for k, v in initial.items():\n",
    "        if k in modified:\n",
    "            if modified[k] != initial[k]:\n",
    "                print(k, initial[k], 'changed to', k, modified[k])\n",
    "        else:\n",
    "            print('key', k, '(', v, ') was deleted')\n",
    "    for k, v in modified.items():\n",
    "        if k not in initial:\n",
    "            print('key', k, '(', v, ') was added')"
   ]
  },
  {
   "cell_type": "code",
   "execution_count": 7,
   "metadata": {},
   "outputs": [
    {
     "name": "stdout",
     "output_type": "stream",
     "text": [
      "1\n"
     ]
    }
   ],
   "source": [
    "sch2 = ga.StepSchedule(sch2)"
   ]
  },
  {
   "cell_type": "code",
   "execution_count": 8,
   "metadata": {},
   "outputs": [
    {
     "name": "stdout",
     "output_type": "stream",
     "text": [
      "CS239-1 TR10:30 changed to CS239-1 TR1\n",
      "CS379-1 MWF11:30 changed to CS379-1 MW1\n",
      "S375-2 TR1 changed to S375-2 TR10:30\n"
     ]
    }
   ],
   "source": [
    "compareDicts(sch, sch2)"
   ]
  },
  {
   "cell_type": "code",
   "execution_count": 9,
   "metadata": {},
   "outputs": [
    {
     "data": {
      "text/plain": [
       "0"
      ]
     },
     "execution_count": 9,
     "metadata": {},
     "output_type": "execute_result"
    }
   ],
   "source": [
    "ga.accumulatePenalties(sch)"
   ]
  },
  {
   "cell_type": "code",
   "execution_count": 10,
   "metadata": {},
   "outputs": [
    {
     "name": "stdout",
     "output_type": "stream",
     "text": [
      "The total number of penalties for the schedule is 0\n",
      "The total number of penalties for the schedule is 0\n"
     ]
    }
   ],
   "source": [
    "ga.summary(sch)\n",
    "ga.summary(sch2)"
   ]
  },
  {
   "cell_type": "code",
   "execution_count": 12,
   "metadata": {},
   "outputs": [],
   "source": [
    "ga.exportSch('testexport.csv', sch)"
   ]
  },
  {
   "cell_type": "code",
   "execution_count": 13,
   "metadata": {},
   "outputs": [
    {
     "name": "stdout",
     "output_type": "stream",
     "text": [
      "WARNING: FUCHS has a conflict between P141-1 and P144-1 in the imported schedule.\n"
     ]
    }
   ],
   "source": [
    "sch3 = ga.importSch('testexport.csv')"
   ]
  },
  {
   "cell_type": "code",
   "execution_count": 14,
   "metadata": {},
   "outputs": [
    {
     "name": "stdout",
     "output_type": "stream",
     "text": [
      "P141-1 MWF9 changed to P141-1 MWF10:30\n"
     ]
    }
   ],
   "source": [
    "compareDicts(sch, sch3)"
   ]
  },
  {
   "cell_type": "code",
   "execution_count": 2,
   "metadata": {},
   "outputs": [],
   "source": [
    "inFilename = 'StudentSurveys.txt'\n",
    "outFilename = 'ConflictsOutputText.txt'\n",
    "GrandAlpha.importConflictsFromStudentSurveys(inFilename, outFilename)"
   ]
  },
  {
   "cell_type": "code",
   "execution_count": null,
   "metadata": {},
   "outputs": [],
   "source": []
  },
  {
   "cell_type": "code",
   "execution_count": null,
   "metadata": {},
   "outputs": [],
   "source": []
  }
 ],
 "metadata": {
  "kernelspec": {
   "display_name": "Python 3",
   "language": "python",
   "name": "python3"
  },
  "language_info": {
   "codemirror_mode": {
    "name": "ipython",
    "version": 3
   },
   "file_extension": ".py",
   "mimetype": "text/x-python",
   "name": "python",
   "nbconvert_exporter": "python",
   "pygments_lexer": "ipython3",
   "version": "3.6.4"
  }
 },
 "nbformat": 4,
 "nbformat_minor": 2
}
