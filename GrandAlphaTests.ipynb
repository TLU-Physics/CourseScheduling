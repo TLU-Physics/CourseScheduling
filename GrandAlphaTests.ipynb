{
 "cells": [
  {
   "cell_type": "code",
   "execution_count": 1,
   "metadata": {},
   "outputs": [],
   "source": [
    "from GrandAlpha import *"
   ]
  },
  {
   "cell_type": "code",
   "execution_count": 30,
   "metadata": {},
   "outputs": [],
   "source": [
    "schinitFilename = 'schedule test input.csv'\n",
    "conflictsFilename = 'Conflicts.txt'\n",
    "timeConflictsFilename = 'TimeConflicts.txt'\n",
    "ga = GrandAlpha(schinitFilename, conflictsFilename, timeConflictsFilename)"
   ]
  },
  {
   "cell_type": "markdown",
   "metadata": {},
   "source": [
    "# Importing tests"
   ]
  },
  {
   "cell_type": "code",
   "execution_count": 31,
   "metadata": {},
   "outputs": [
    {
     "name": "stdout",
     "output_type": "stream",
     "text": [
      "PHYS336 has available times MWF8 MWF9 MWF10:30 MWF11:30 "
     ]
    }
   ],
   "source": [
    "ga.allCourseTimes.getCourseTimes('PHYS336').print()"
   ]
  },
  {
   "cell_type": "code",
   "execution_count": 32,
   "metadata": {},
   "outputs": [
    {
     "name": "stdout",
     "output_type": "stream",
     "text": [
      "PHYS391 has available times TR8 TR10:30 "
     ]
    }
   ],
   "source": [
    "ga.allCourseTimes.getCourseTimes('PHYS391').print()"
   ]
  },
  {
   "cell_type": "code",
   "execution_count": 33,
   "metadata": {},
   "outputs": [
    {
     "name": "stdout",
     "output_type": "stream",
     "text": [
      "BIOL246L-1 has available times M1-4 "
     ]
    }
   ],
   "source": [
    "ga.allCourseTimes.getCourseTimes('BIOL246L-1').print()"
   ]
  },
  {
   "cell_type": "code",
   "execution_count": 34,
   "metadata": {},
   "outputs": [
    {
     "name": "stdout",
     "output_type": "stream",
     "text": [
      "CHEM342L has available times M1-5 W1-5 "
     ]
    }
   ],
   "source": [
    "ga.allCourseTimes.getCourseTimes('CHEM342L').print()"
   ]
  },
  {
   "cell_type": "code",
   "execution_count": 35,
   "metadata": {},
   "outputs": [
    {
     "name": "stdout",
     "output_type": "stream",
     "text": [
      "BIOL144-2 has available times MWF8 MWF9 MWF10:30 MWF11:30 "
     ]
    }
   ],
   "source": [
    "ga.allCourseTimes.getCourseTimes(5).print()"
   ]
  },
  {
   "cell_type": "code",
   "execution_count": 36,
   "metadata": {},
   "outputs": [
    {
     "data": {
      "text/plain": [
       "True"
      ]
     },
     "execution_count": 36,
     "metadata": {},
     "output_type": "execute_result"
    }
   ],
   "source": [
    "ga.allCourseTimes.getCourseTimes('PHYS336').contains('MWF11:30')"
   ]
  },
  {
   "cell_type": "code",
   "execution_count": 37,
   "metadata": {},
   "outputs": [
    {
     "name": "stdout",
     "output_type": "stream",
     "text": [
      "Rand in Math has courses MATH234 MATH241-2 MATH242 "
     ]
    }
   ],
   "source": [
    "ga.allFacCourses.getFacCourses('Rand').print()"
   ]
  },
  {
   "cell_type": "code",
   "execution_count": 38,
   "metadata": {},
   "outputs": [
    {
     "name": "stdout",
     "output_type": "stream",
     "text": [
      "Tate in Biology has courses BIOL233-1 BIOL233-2 BIOL246-3 BIOL246-4 "
     ]
    }
   ],
   "source": [
    "ga.allFacCourses.getFacCourses('Tate').print()"
   ]
  },
  {
   "cell_type": "code",
   "execution_count": 40,
   "metadata": {},
   "outputs": [
    {
     "name": "stdout",
     "output_type": "stream",
     "text": [
      "Abbasian in Math has courses MATH343 MATH338 STAT374-3 STAT375-1 STAT375-2 "
     ]
    }
   ],
   "source": [
    "ga.allFacCourses.getFacCourses('Abbasian').print()"
   ]
  },
  {
   "cell_type": "code",
   "execution_count": 41,
   "metadata": {},
   "outputs": [
    {
     "name": "stdout",
     "output_type": "stream",
     "text": [
      "Ruane- in Chemistry has courses CHEM412 "
     ]
    }
   ],
   "source": [
    "ga.allFacCourses.getFacCourses('Ruane-').print()"
   ]
  },
  {
   "cell_type": "code",
   "execution_count": 42,
   "metadata": {},
   "outputs": [
    {
     "data": {
      "text/plain": [
       "'Gustafson'"
      ]
     },
     "execution_count": 42,
     "metadata": {},
     "output_type": "execute_result"
    }
   ],
   "source": [
    "ga.allFacCourses.getFacNameByCourse('BIOL144-2')"
   ]
  },
  {
   "cell_type": "code",
   "execution_count": 43,
   "metadata": {},
   "outputs": [
    {
     "data": {
      "text/plain": [
       "'Chupik'"
      ]
     },
     "execution_count": 43,
     "metadata": {},
     "output_type": "execute_result"
    }
   ],
   "source": [
    "ga.allFacCourses.getFacNameByCourse('CHEM144-2')"
   ]
  },
  {
   "cell_type": "code",
   "execution_count": 44,
   "metadata": {},
   "outputs": [
    {
     "data": {
      "text/plain": [
       "['PHYS142', 'PHYS336', 'PHYS391', 'PHYS438']"
      ]
     },
     "execution_count": 44,
     "metadata": {},
     "output_type": "execute_result"
    }
   ],
   "source": [
    "ga.allFacCourses.getFacOtherCoursesByCourse('PHYS371')"
   ]
  },
  {
   "cell_type": "markdown",
   "metadata": {},
   "source": [
    "## Conflicts"
   ]
  },
  {
   "cell_type": "code",
   "execution_count": 48,
   "metadata": {},
   "outputs": [
    {
     "data": {
      "text/plain": [
       "True"
      ]
     },
     "execution_count": 48,
     "metadata": {},
     "output_type": "execute_result"
    }
   ],
   "source": [
    "ga.allConflicts.getPenalty('CHEM249', 'BIOL331') == 5"
   ]
  },
  {
   "cell_type": "code",
   "execution_count": 49,
   "metadata": {},
   "outputs": [
    {
     "data": {
      "text/plain": [
       "True"
      ]
     },
     "execution_count": 49,
     "metadata": {},
     "output_type": "execute_result"
    }
   ],
   "source": [
    "ga.allConflicts.getPenalty('PHYS240', 'MATH241') == 5"
   ]
  },
  {
   "cell_type": "code",
   "execution_count": 52,
   "metadata": {},
   "outputs": [
    {
     "name": "stdout",
     "output_type": "stream",
     "text": [
      "5 5 5 5 5 5 5 5\n"
     ]
    }
   ],
   "source": [
    "print(ga.allConflicts.getPenalty('PHYS334', 'PHYS371'), \\\n",
    "      ga.allConflicts.getPenalty('PHYS334', 'MATH343'), \\\n",
    "      ga.allConflicts.getPenalty('PHYS334', 'MATH334'), \\\n",
    "      ga.allConflicts.getPenalty('PHYS334', 'MATH234'), \\\n",
    "      ga.allConflicts.getPenalty('PHYS371', 'MATH343'), \\\n",
    "      ga.allConflicts.getPenalty('PHYS371', 'MATH334'), \\\n",
    "      ga.allConflicts.getPenalty('PHYS371', 'PHYS313'), \\\n",
    "      ga.allConflicts.getPenalty('MATH334', 'MATH234'))\n",
    "# 5 5 5 5 5 5 5 5"
   ]
  },
  {
   "cell_type": "code",
   "execution_count": 53,
   "metadata": {},
   "outputs": [
    {
     "data": {
      "text/plain": [
       "True"
      ]
     },
     "execution_count": 53,
     "metadata": {},
     "output_type": "execute_result"
    }
   ],
   "source": [
    "ga.allConflicts.getPenalty('NSCI140', 'BIOL140') == 1"
   ]
  },
  {
   "cell_type": "code",
   "execution_count": 57,
   "metadata": {},
   "outputs": [
    {
     "data": {
      "text/plain": [
       "True"
      ]
     },
     "execution_count": 57,
     "metadata": {},
     "output_type": "execute_result"
    }
   ],
   "source": [
    "len(ga.allConflicts.allConflicts) == 50"
   ]
  },
  {
   "cell_type": "code",
   "execution_count": 58,
   "metadata": {},
   "outputs": [
    {
     "name": "stdout",
     "output_type": "stream",
     "text": [
      "BIOL233 and BIOL235 conflict with priority 5\n",
      "BIOL233 and BIOL246 conflict with priority 5\n",
      "BIOL233 and BIOL246L conflict with priority 5\n",
      "BIOL233 and CHEM147 conflict with priority 5\n",
      "BIOL233 and CHEM147L conflict with priority 5\n",
      "BIOL235 and BIOL246 conflict with priority 5\n",
      "BIOL235 and BIOL246L conflict with priority 5\n",
      "BIOL235 and CHEM147 conflict with priority 5\n",
      "BIOL235 and CHEM147L conflict with priority 5\n",
      "BIOL246 and BIOL246L conflict with priority 5\n",
      "BIOL246 and CHEM147 conflict with priority 5\n",
      "BIOL246 and CHEM147L conflict with priority 5\n",
      "BIOL246L and CHEM147 conflict with priority 5\n",
      "BIOL246L and CHEM147L conflict with priority 5\n",
      "CHEM147 and CHEM147L conflict with priority 5\n",
      "CHEM122 and CHEM144 conflict with priority 5\n",
      "CHEM122 and CHEM144L conflict with priority 5\n",
      "CHEM144 and CHEM144L conflict with priority 5\n",
      "CHEM249 and CHEM249L conflict with priority 5\n",
      "BIOL331 and CHEM249 conflict with priority 5\n",
      "BIOL331 and CHEM249L conflict with priority 5\n",
      "CSCI248 and CSCI270 conflict with priority 5\n",
      "CSCI249 and CSCI270 conflict with priority 5\n",
      "MATH234 and MATH242 conflict with priority 5\n",
      "MATH234 and MATH343 conflict with priority 5\n",
      "MATH234 and MATH334 conflict with priority 5\n",
      "PHYS240 and PHYS240L conflict with priority 5\n",
      "MATH241 and PHYS240 conflict with priority 5\n",
      "MATH241 and PHYS240L conflict with priority 5\n",
      "MATH242 and PHYS240 conflict with priority 5\n",
      "MATH242 and PHYS240L conflict with priority 5\n",
      "PHYS334 and PHYS371 conflict with priority 5\n",
      "MATH343 and PHYS334 conflict with priority 5\n",
      "MATH334 and PHYS334 conflict with priority 5\n",
      "PHYS313 and PHYS334 conflict with priority 5\n",
      "MATH234 and PHYS334 conflict with priority 5\n",
      "MATH343 and PHYS371 conflict with priority 5\n",
      "MATH334 and PHYS371 conflict with priority 5\n",
      "PHYS313 and PHYS371 conflict with priority 5\n",
      "MATH234 and PHYS371 conflict with priority 5\n",
      "MATH334 and MATH343 conflict with priority 5\n",
      "MATH343 and PHYS313 conflict with priority 5\n",
      "MATH334 and PHYS313 conflict with priority 5\n",
      "MATH234 and PHYS313 conflict with priority 5\n",
      "NSCI140 and NSCI140L conflict with priority 1\n",
      "BIOL140 and NSCI140 conflict with priority 1\n",
      "BIOL140L and NSCI140 conflict with priority 1\n",
      "BIOL140 and NSCI140L conflict with priority 1\n",
      "BIOL140L and NSCI140L conflict with priority 1\n",
      "BIOL140 and BIOL140L conflict with priority 1\n"
     ]
    }
   ],
   "source": [
    "ga.allConflicts.print()"
   ]
  },
  {
   "cell_type": "markdown",
   "metadata": {},
   "source": [
    "# Schedule Creation"
   ]
  },
  {
   "cell_type": "code",
   "execution_count": 59,
   "metadata": {},
   "outputs": [],
   "source": [
    "sch = ga.CreateRandomScheduleBasic()"
   ]
  },
  {
   "cell_type": "code",
   "execution_count": 60,
   "metadata": {},
   "outputs": [],
   "source": [
    "sch = ga.CreateRandomSchedule()"
   ]
  },
  {
   "cell_type": "markdown",
   "metadata": {},
   "source": [
    "# Importing and Exporting"
   ]
  },
  {
   "cell_type": "code",
   "execution_count": 61,
   "metadata": {},
   "outputs": [],
   "source": [
    "def compareDicts(initial, modified):\n",
    "    for k, v in initial.items():\n",
    "        if k in modified:\n",
    "            if modified[k] != initial[k]:\n",
    "                print(k, initial[k], 'changed to', k, modified[k])\n",
    "        else:\n",
    "            print('key', k, '(', v, ') was deleted')\n",
    "    for k, v in modified.items():\n",
    "        if k not in initial:\n",
    "            print('key', k, '(', v, ') was added')"
   ]
  },
  {
   "cell_type": "code",
   "execution_count": 62,
   "metadata": {},
   "outputs": [],
   "source": [
    "sch2 = ga.StepSchedule(sch)"
   ]
  },
  {
   "cell_type": "code",
   "execution_count": 64,
   "metadata": {},
   "outputs": [],
   "source": [
    "sch2 = ga.StepSchedule(sch2)"
   ]
  },
  {
   "cell_type": "code",
   "execution_count": 65,
   "metadata": {},
   "outputs": [
    {
     "name": "stdout",
     "output_type": "stream",
     "text": [
      "BIOL131 TR8 changed to BIOL131 MWF9\n",
      "BIOL473 TR8 changed to BIOL473 MWF10:30\n",
      "PHYS384 TR8 changed to PHYS384 TR10:30\n"
     ]
    }
   ],
   "source": [
    "compareDicts(sch, sch2)"
   ]
  },
  {
   "cell_type": "code",
   "execution_count": 66,
   "metadata": {},
   "outputs": [
    {
     "data": {
      "text/plain": [
       "5"
      ]
     },
     "execution_count": 66,
     "metadata": {},
     "output_type": "execute_result"
    }
   ],
   "source": [
    "ga.accumulatePenalties(sch)"
   ]
  },
  {
   "cell_type": "code",
   "execution_count": 67,
   "metadata": {},
   "outputs": [
    {
     "name": "stdout",
     "output_type": "stream",
     "text": [
      "PHYS334 and PHYS371 conflict with penalty 5\n",
      "The total number of penalties for the schedule is 5\n",
      "PHYS334 and PHYS371 conflict with penalty 5\n",
      "The total number of penalties for the schedule is 5\n"
     ]
    }
   ],
   "source": [
    "ga.summary(sch)\n",
    "ga.summary(sch2)"
   ]
  },
  {
   "cell_type": "code",
   "execution_count": 69,
   "metadata": {},
   "outputs": [
    {
     "ename": "KeyboardInterrupt",
     "evalue": "",
     "output_type": "error",
     "traceback": [
      "\u001b[1;31m---------------------------------------------------------------------------\u001b[0m",
      "\u001b[1;31mKeyboardInterrupt\u001b[0m                         Traceback (most recent call last)",
      "Cell \u001b[1;32mIn[69], line 1\u001b[0m\n\u001b[1;32m----> 1\u001b[0m \u001b[43mga\u001b[49m\u001b[38;5;241;43m.\u001b[39;49m\u001b[43mexportSch\u001b[49m\u001b[43m(\u001b[49m\u001b[38;5;124;43m'\u001b[39;49m\u001b[38;5;124;43mtestexport.csv\u001b[39;49m\u001b[38;5;124;43m'\u001b[39;49m\u001b[43m,\u001b[49m\u001b[43m \u001b[49m\u001b[43msch\u001b[49m\u001b[43m)\u001b[49m\n",
      "File \u001b[1;32m~\\OneDrive\\Work\\Physics\\Course Scheduling Algorithm\\CourseScheduling\\GrandAlpha.py:409\u001b[0m, in \u001b[0;36mGrandAlpha.exportSch\u001b[1;34m(self, filename, sch, addCrossListings)\u001b[0m\n\u001b[0;32m    407\u001b[0m     courseid \u001b[38;5;241m=\u001b[39m CourseTimes\u001b[38;5;241m.\u001b[39mgetCourseDeptCode(course) \u001b[38;5;241m+\u001b[39m CourseTimes\u001b[38;5;241m.\u001b[39mgetCourseNum(course)\n\u001b[0;32m    408\u001b[0m     \u001b[38;5;28;01mif\u001b[39;00m courseid \u001b[38;5;129;01min\u001b[39;00m crosslistingmap \u001b[38;5;129;01mand\u001b[39;00m courseid \u001b[38;5;129;01mnot\u001b[39;00m \u001b[38;5;129;01min\u001b[39;00m coursesToAdd:\n\u001b[1;32m--> 409\u001b[0m         otherCourse \u001b[38;5;241m=\u001b[39m GrandAlpha\u001b[38;5;241m.\u001b[39mgetCrossListedCourse(course, crosslistingmap)\n\u001b[0;32m    410\u001b[0m         allCoursesList\u001b[38;5;241m.\u001b[39mappend(otherCourse)\n\u001b[0;32m    412\u001b[0m allCoursesList\u001b[38;5;241m.\u001b[39msort(key \u001b[38;5;241m=\u001b[39m \u001b[38;5;28;01mlambda\u001b[39;00m course: \u001b[38;5;28mself\u001b[39m\u001b[38;5;241m.\u001b[39mallCourseTimes\u001b[38;5;241m.\u001b[39mgetCourseDept(course) \u001b[38;5;241m+\u001b[39m course)\n",
      "File \u001b[1;32m~\\OneDrive\\Work\\Physics\\Course Scheduling Algorithm\\CourseScheduling\\GrandAlpha.py:474\u001b[0m, in \u001b[0;36mgetCrossListedCourses\u001b[1;34m(course, crosslistingmap)\u001b[0m\n\u001b[0;32m    471\u001b[0m courseid \u001b[38;5;241m=\u001b[39m CourseTimes\u001b[38;5;241m.\u001b[39mgetCourseDeptCode(course) \u001b[38;5;241m+\u001b[39m CourseTimes\u001b[38;5;241m.\u001b[39mgetCourseNum(course)\n\u001b[0;32m    473\u001b[0m hyphenpos \u001b[38;5;241m=\u001b[39m course\u001b[38;5;241m.\u001b[39mfind(\u001b[38;5;124m'\u001b[39m\u001b[38;5;124m-\u001b[39m\u001b[38;5;124m'\u001b[39m)\n\u001b[1;32m--> 474\u001b[0m sectionNumberPart \u001b[38;5;241m=\u001b[39m \u001b[38;5;124m\"\u001b[39m\u001b[38;5;124m\"\u001b[39m\n\u001b[0;32m    475\u001b[0m \u001b[38;5;28;01mif\u001b[39;00m hyphenpos \u001b[38;5;241m>\u001b[39m \u001b[38;5;241m0\u001b[39m:\n\u001b[0;32m    476\u001b[0m     sectionNumberPart \u001b[38;5;241m=\u001b[39m course[hyphenpos:]\n",
      "File \u001b[1;32m~\\OneDrive\\Work\\Physics\\Course Scheduling Algorithm\\CourseScheduling\\DataStructures.py:109\u001b[0m, in \u001b[0;36mCourseTimes.getCourseDeptCode\u001b[1;34m(name)\u001b[0m\n\u001b[0;32m    106\u001b[0m     \u001b[38;5;28;01melse\u001b[39;00m:\n\u001b[0;32m    107\u001b[0m         \u001b[38;5;28;01mreturn\u001b[39;00m \u001b[38;5;124m'\u001b[39m\u001b[38;5;124m01\u001b[39m\u001b[38;5;124m'\u001b[39m\n\u001b[1;32m--> 109\u001b[0m \u001b[38;5;28;01mdef\u001b[39;00m \u001b[38;5;21mgetCourseDeptCode\u001b[39m(name):\n\u001b[0;32m    110\u001b[0m     code \u001b[38;5;241m=\u001b[39m name[\u001b[38;5;241m0\u001b[39m:\u001b[38;5;241m4\u001b[39m]\n\u001b[0;32m    112\u001b[0m     \u001b[38;5;28;01mreturn\u001b[39;00m code\n",
      "\u001b[1;31mKeyboardInterrupt\u001b[0m: "
     ]
    }
   ],
   "source": [
    "ga.exportSch('testexport.csv', sch)"
   ]
  },
  {
   "cell_type": "code",
   "execution_count": 13,
   "metadata": {},
   "outputs": [],
   "source": [
    "sch = ga.importSchDetail('testexport detailed.csv')"
   ]
  },
  {
   "cell_type": "code",
   "execution_count": 14,
   "metadata": {},
   "outputs": [],
   "source": [
    "ga.exportSchDetail('testexport detailed 2.csv', sch, addCrossListings = False)"
   ]
  },
  {
   "cell_type": "code",
   "execution_count": 4,
   "metadata": {},
   "outputs": [],
   "source": [
    "sch3 = ga.importSch('testexport.csv')"
   ]
  },
  {
   "cell_type": "code",
   "execution_count": null,
   "metadata": {},
   "outputs": [],
   "source": [
    "compareDicts(sch, sch3)"
   ]
  },
  {
   "cell_type": "code",
   "execution_count": null,
   "metadata": {},
   "outputs": [],
   "source": []
  }
 ],
 "metadata": {
  "kernelspec": {
   "display_name": "Python 3 (ipykernel)",
   "language": "python",
   "name": "python3"
  },
  "language_info": {
   "codemirror_mode": {
    "name": "ipython",
    "version": 3
   },
   "file_extension": ".py",
   "mimetype": "text/x-python",
   "name": "python",
   "nbconvert_exporter": "python",
   "pygments_lexer": "ipython3",
   "version": "3.12.3"
  }
 },
 "nbformat": 4,
 "nbformat_minor": 4
}
