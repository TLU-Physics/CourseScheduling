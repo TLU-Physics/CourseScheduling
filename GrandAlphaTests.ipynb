{
 "cells": [
  {
   "cell_type": "code",
   "execution_count": 1,
   "metadata": {},
   "outputs": [],
   "source": [
    "from GrandAlpha import *"
   ]
  },
  {
   "cell_type": "markdown",
   "metadata": {},
   "source": [
    "The following has duplicated lines to test whether the new initialization is consistent with the old. Needs to be removed now that testing is complete."
   ]
  },
  {
   "cell_type": "code",
   "execution_count": 2,
   "metadata": {},
   "outputs": [],
   "source": [
    "facCourseFilename = 'ProfConflicts.txt'\n",
    "courseTimesFilename = 'ClassesSpring2020.txt'\n",
    "conflictsFilename = 'Conflicts.txt'\n",
    "timeConflictsFilename = 'TimeConflicts.txt'\n",
    "ga = GrandAlpha(facCourseFilename, courseTimesFilename, conflictsFilename, timeConflictsFilename)"
   ]
  },
  {
   "cell_type": "code",
   "execution_count": 2,
   "metadata": {},
   "outputs": [],
   "source": [
    "schinitFilename = 'schedule_v1.2 input.csv'\n",
    "conflictsFilename = 'Conflicts.txt'\n",
    "timeConflictsFilename = 'TimeConflicts.txt'\n",
    "ga = GrandAlpha(schinitFilename, conflictsFilename, timeConflictsFilename)"
   ]
  },
  {
   "cell_type": "code",
   "execution_count": 3,
   "metadata": {},
   "outputs": [
    {
     "name": "stdout",
     "output_type": "stream",
     "text": [
      "PHYS336 has available times MWF8 MWF9 MWF10:30 MWF11:30 "
     ]
    }
   ],
   "source": [
    "ga.allCourseTimes.getCourseTimes('PHYS336').print()"
   ]
  },
  {
   "cell_type": "code",
   "execution_count": 3,
   "metadata": {},
   "outputs": [
    {
     "name": "stdout",
     "output_type": "stream",
     "text": [
      "PHYS336 has available times MWF8 MWF9 MWF10:30 MWF11:30 "
     ]
    }
   ],
   "source": [
    "ga.allCourseTimes.getCourseTimes('PHYS336').print()"
   ]
  },
  {
   "cell_type": "code",
   "execution_count": 4,
   "metadata": {},
   "outputs": [
    {
     "name": "stdout",
     "output_type": "stream",
     "text": [
      "PHYS391 has available times TR8 TR10:30 "
     ]
    }
   ],
   "source": [
    "ga.allCourseTimes.getCourseTimes('PHYS391').print()"
   ]
  },
  {
   "cell_type": "code",
   "execution_count": 4,
   "metadata": {},
   "outputs": [
    {
     "name": "stdout",
     "output_type": "stream",
     "text": [
      "PHYS391 has available times TR8 TR10:30 "
     ]
    }
   ],
   "source": [
    "ga.allCourseTimes.getCourseTimes('PHYS391').print()"
   ]
  },
  {
   "cell_type": "code",
   "execution_count": 5,
   "metadata": {},
   "outputs": [
    {
     "name": "stdout",
     "output_type": "stream",
     "text": [
      "BIOL246L-1 has available times M1-4 "
     ]
    }
   ],
   "source": [
    "ga.allCourseTimes.getCourseTimes('BIOL246L-1').print()"
   ]
  },
  {
   "cell_type": "code",
   "execution_count": 5,
   "metadata": {},
   "outputs": [
    {
     "name": "stdout",
     "output_type": "stream",
     "text": [
      "BIOL246L-1 has available times M1-4 "
     ]
    }
   ],
   "source": [
    "ga.allCourseTimes.getCourseTimes('BIOL246L-1').print()"
   ]
  },
  {
   "cell_type": "code",
   "execution_count": 6,
   "metadata": {},
   "outputs": [
    {
     "name": "stdout",
     "output_type": "stream",
     "text": [
      "CHEM342L has available times M1-5 W1-5 "
     ]
    }
   ],
   "source": [
    "ga.allCourseTimes.getCourseTimes('CHEM342L').print()"
   ]
  },
  {
   "cell_type": "code",
   "execution_count": 6,
   "metadata": {},
   "outputs": [
    {
     "name": "stdout",
     "output_type": "stream",
     "text": [
      "CHEM342L has available times M1-5 W1-5 "
     ]
    }
   ],
   "source": [
    "ga.allCourseTimes.getCourseTimes('CHEM342L').print()"
   ]
  },
  {
   "cell_type": "code",
   "execution_count": 7,
   "metadata": {},
   "outputs": [
    {
     "name": "stdout",
     "output_type": "stream",
     "text": [
      "Rand in Math has courses MATH234 MATH242 MATH241-2 "
     ]
    }
   ],
   "source": [
    "ga.allFacCourses.getFacCourses('Rand').print()"
   ]
  },
  {
   "cell_type": "code",
   "execution_count": 7,
   "metadata": {},
   "outputs": [
    {
     "name": "stdout",
     "output_type": "stream",
     "text": [
      "Rand in Math has courses MATH234 MATH241-2 MATH242 "
     ]
    }
   ],
   "source": [
    "ga.allFacCourses.getFacCourses('Rand').print()"
   ]
  },
  {
   "cell_type": "code",
   "execution_count": 8,
   "metadata": {},
   "outputs": [
    {
     "name": "stdout",
     "output_type": "stream",
     "text": [
      "Tate in Biology has courses BIOL233-1 BIOL233-2 BIOL246-3 BIOL246-4 "
     ]
    }
   ],
   "source": [
    "ga.allFacCourses.getFacCourses('Tate').print()"
   ]
  },
  {
   "cell_type": "code",
   "execution_count": 8,
   "metadata": {},
   "outputs": [
    {
     "name": "stdout",
     "output_type": "stream",
     "text": [
      "Tate in Biology has courses BIOL233-1 BIOL233-2 BIOL246-3 BIOL246-4 "
     ]
    }
   ],
   "source": [
    "ga.allFacCourses.getFacCourses('Tate').print()"
   ]
  },
  {
   "cell_type": "code",
   "execution_count": 9,
   "metadata": {},
   "outputs": [
    {
     "name": "stdout",
     "output_type": "stream",
     "text": [
      "Abbasian in Math has courses MATH333 STAT374-3 STAT375-1 STAT375-2 DAST532 "
     ]
    }
   ],
   "source": [
    "ga.allFacCourses.getFacCourses('Abbasian').print()"
   ]
  },
  {
   "cell_type": "code",
   "execution_count": 9,
   "metadata": {},
   "outputs": [
    {
     "name": "stdout",
     "output_type": "stream",
     "text": [
      "Abbasian in Math has courses DAST532 MATH333 STAT374-3 STAT375-1 STAT375-2 "
     ]
    }
   ],
   "source": [
    "ga.allFacCourses.getFacCourses('Abbasian').print()"
   ]
  },
  {
   "cell_type": "code",
   "execution_count": 4,
   "metadata": {},
   "outputs": [
    {
     "name": "stdout",
     "output_type": "stream",
     "text": [
      "Ruane- in Chemistry has courses CHEM412 "
     ]
    }
   ],
   "source": [
    "ga.allFacCourses.getFacCourses('Ruane-').print()"
   ]
  },
  {
   "cell_type": "code",
   "execution_count": 10,
   "metadata": {},
   "outputs": [
    {
     "data": {
      "text/plain": [
       "'Gustafson'"
      ]
     },
     "execution_count": 10,
     "metadata": {},
     "output_type": "execute_result"
    }
   ],
   "source": [
    "ga.allFacCourses.getFacNameByCourse('BIOL144-2')"
   ]
  },
  {
   "cell_type": "code",
   "execution_count": 10,
   "metadata": {},
   "outputs": [
    {
     "data": {
      "text/plain": [
       "'Gustafson'"
      ]
     },
     "execution_count": 10,
     "metadata": {},
     "output_type": "execute_result"
    }
   ],
   "source": [
    "ga.allFacCourses.getFacNameByCourse('BIOL144-2')"
   ]
  },
  {
   "cell_type": "code",
   "execution_count": 11,
   "metadata": {},
   "outputs": [
    {
     "data": {
      "text/plain": [
       "'Chupik'"
      ]
     },
     "execution_count": 11,
     "metadata": {},
     "output_type": "execute_result"
    }
   ],
   "source": [
    "ga.allFacCourses.getFacNameByCourse('CHEM144-2')"
   ]
  },
  {
   "cell_type": "code",
   "execution_count": 11,
   "metadata": {},
   "outputs": [
    {
     "data": {
      "text/plain": [
       "'Chupik'"
      ]
     },
     "execution_count": 11,
     "metadata": {},
     "output_type": "execute_result"
    }
   ],
   "source": [
    "ga.allFacCourses.getFacNameByCourse('CHEM144-2')"
   ]
  },
  {
   "cell_type": "code",
   "execution_count": 12,
   "metadata": {},
   "outputs": [
    {
     "data": {
      "text/plain": [
       "['PHYS142', 'PHYS336', 'PHYS391', 'PHYS438']"
      ]
     },
     "execution_count": 12,
     "metadata": {},
     "output_type": "execute_result"
    }
   ],
   "source": [
    "ga.allFacCourses.getFacOtherCoursesByCourse('PHYS371')"
   ]
  },
  {
   "cell_type": "code",
   "execution_count": 12,
   "metadata": {},
   "outputs": [
    {
     "data": {
      "text/plain": [
       "['PHYS142', 'PHYS336', 'PHYS391', 'PHYS438']"
      ]
     },
     "execution_count": 12,
     "metadata": {},
     "output_type": "execute_result"
    }
   ],
   "source": [
    "ga.allFacCourses.getFacOtherCoursesByCourse('PHYS371')"
   ]
  },
  {
   "cell_type": "code",
   "execution_count": 5,
   "metadata": {},
   "outputs": [],
   "source": [
    "sch = ga.importSch('schedule_v1.2.csv')"
   ]
  },
  {
   "cell_type": "code",
   "execution_count": 6,
   "metadata": {},
   "outputs": [],
   "source": [
    "ga.exportSchDetail('schedule_v1.2 detailed 2.csv', sch, addCrossListings = False)"
   ]
  },
  {
   "cell_type": "code",
   "execution_count": 12,
   "metadata": {},
   "outputs": [],
   "source": [
    "sch1 = ga.importSchDetail('schedule_v1.2 detailed 2.csv')"
   ]
  },
  {
   "cell_type": "code",
   "execution_count": 13,
   "metadata": {},
   "outputs": [],
   "source": [
    "sch2 = ga.importSchDetail('schedule_v2.0 detailed 2.csv')"
   ]
  },
  {
   "cell_type": "code",
   "execution_count": 14,
   "metadata": {},
   "outputs": [
    {
     "name": "stdout",
     "output_type": "stream",
     "text": [
      "BIOL144L-1 T1-4 changed to BIOL144L-1 W1-4\n",
      "BIOL144L-2 W1-4 changed to BIOL144L-2 T1-4\n"
     ]
    }
   ],
   "source": [
    "compareDicts(sch1, sch2)"
   ]
  },
  {
   "cell_type": "code",
   "execution_count": 15,
   "metadata": {},
   "outputs": [],
   "source": [
    "ga.exportSchDetail('schedule_v2.0.1 detailed 2.csv', sch2, addCrossListings = False)"
   ]
  },
  {
   "cell_type": "markdown",
   "metadata": {},
   "source": [
    "The following is GA testing that should remain."
   ]
  },
  {
   "cell_type": "code",
   "execution_count": 3,
   "metadata": {},
   "outputs": [],
   "source": [
    "sch = ga.CreateRandomScheduleBasic()"
   ]
  },
  {
   "cell_type": "code",
   "execution_count": 4,
   "metadata": {},
   "outputs": [
    {
     "name": "stdout",
     "output_type": "stream",
     "text": [
      "Reached an impasse when building initial schedule with trying to schedule courses for Bray. Trying again...\n"
     ]
    }
   ],
   "source": [
    "sch = ga.CreateRandomSchedule()"
   ]
  },
  {
   "cell_type": "code",
   "execution_count": 10,
   "metadata": {},
   "outputs": [],
   "source": [
    "def compareDicts(initial, modified):\n",
    "    for k, v in initial.items():\n",
    "        if k in modified:\n",
    "            if modified[k] != initial[k]:\n",
    "                print(k, initial[k], 'changed to', k, modified[k])\n",
    "        else:\n",
    "            print('key', k, '(', v, ') was deleted')\n",
    "    for k, v in modified.items():\n",
    "        if k not in initial:\n",
    "            print('key', k, '(', v, ') was added')"
   ]
  },
  {
   "cell_type": "code",
   "execution_count": 8,
   "metadata": {},
   "outputs": [],
   "source": [
    "sch2 = ga.StepSchedule(sch)"
   ]
  },
  {
   "cell_type": "code",
   "execution_count": 11,
   "metadata": {},
   "outputs": [],
   "source": [
    "sch2 = ga.StepSchedule(sch2)"
   ]
  },
  {
   "cell_type": "code",
   "execution_count": 12,
   "metadata": {},
   "outputs": [
    {
     "name": "stdout",
     "output_type": "stream",
     "text": [
      "BIOL131 MWF8 changed to BIOL131 TR8\n",
      "CHEM143 MWF10:30 changed to CHEM143 TR8\n",
      "PHYS142L-1 M1-4 changed to PHYS142L-1 T1-4\n"
     ]
    }
   ],
   "source": [
    "compareDicts(sch, sch2)"
   ]
  },
  {
   "cell_type": "code",
   "execution_count": 13,
   "metadata": {},
   "outputs": [
    {
     "data": {
      "text/plain": [
       "33"
      ]
     },
     "execution_count": 13,
     "metadata": {},
     "output_type": "execute_result"
    }
   ],
   "source": [
    "ga.accumulatePenalties(sch)"
   ]
  },
  {
   "cell_type": "code",
   "execution_count": 14,
   "metadata": {},
   "outputs": [
    {
     "name": "stdout",
     "output_type": "stream",
     "text": [
      "PHYS334 and PHYS371 conflict with penalty 5\n",
      "BIOL432 and CHEM249 conflict with penalty 5\n",
      "CHEM249 and MATH334 conflict with penalty 3\n",
      "BIOL341 and CHEM342 conflict with penalty 5\n",
      "BIOL437 and CHEM342 conflict with penalty 5\n",
      "BIOL414 and CHEM342L conflict with penalty 5\n",
      "PHYS384L and CSCI436 conflict with penalty 5\n",
      "The total number of penalties for the schedule is 33\n",
      "BIOL432 and CHEM249 conflict with penalty 5\n",
      "CHEM249 and MATH334 conflict with penalty 3\n",
      "BIOL341 and CHEM342 conflict with penalty 5\n",
      "BIOL437 and CHEM342 conflict with penalty 5\n",
      "PHYS334 and PHYS371 conflict with penalty 5\n",
      "BIOL414 and CHEM342L conflict with penalty 5\n",
      "PHYS384L and CSCI436 conflict with penalty 5\n",
      "The total number of penalties for the schedule is 33\n"
     ]
    }
   ],
   "source": [
    "ga.summary(sch)\n",
    "ga.summary(sch2)"
   ]
  },
  {
   "cell_type": "code",
   "execution_count": 15,
   "metadata": {},
   "outputs": [],
   "source": [
    "ga.exportSch('testexport.csv', sch)"
   ]
  },
  {
   "cell_type": "code",
   "execution_count": 18,
   "metadata": {},
   "outputs": [],
   "source": [
    "sch3 = ga.importSch('testexport.csv')"
   ]
  },
  {
   "cell_type": "code",
   "execution_count": 19,
   "metadata": {},
   "outputs": [
    {
     "name": "stdout",
     "output_type": "stream",
     "text": [
      "BIOL341L-2 M1-4 changed to BIOL341L-2 T1-4\n"
     ]
    }
   ],
   "source": [
    "compareDicts(sch, sch3)"
   ]
  },
  {
   "cell_type": "code",
   "execution_count": null,
   "metadata": {},
   "outputs": [],
   "source": []
  }
 ],
 "metadata": {
  "kernelspec": {
   "display_name": "Python 3",
   "language": "python",
   "name": "python3"
  },
  "language_info": {
   "codemirror_mode": {
    "name": "ipython",
    "version": 3
   },
   "file_extension": ".py",
   "mimetype": "text/x-python",
   "name": "python",
   "nbconvert_exporter": "python",
   "pygments_lexer": "ipython3",
   "version": "3.7.3"
  }
 },
 "nbformat": 4,
 "nbformat_minor": 2
}
