{
 "cells": [
  {
   "cell_type": "code",
   "execution_count": 1,
   "metadata": {},
   "outputs": [],
   "source": [
    "from GrandAlpha import *"
   ]
  },
  {
   "cell_type": "code",
   "execution_count": 2,
   "metadata": {},
   "outputs": [
    {
     "name": "stdout",
     "output_type": "stream",
     "text": [
      "Trying to add the conflict between CHEM435 and BIOL437 again. Ignoring.\n"
     ]
    }
   ],
   "source": [
    "schinitFilename = 'schedule test input.csv'\n",
    "conflictsFilename = 'Conflicts.txt'\n",
    "timeConflictsFilename = 'TimeConflicts.txt'\n",
    "ga = GrandAlpha(schinitFilename, conflictsFilename, timeConflictsFilename)"
   ]
  },
  {
   "cell_type": "markdown",
   "metadata": {},
   "source": [
    "# Importing tests"
   ]
  },
  {
   "cell_type": "code",
   "execution_count": 3,
   "metadata": {},
   "outputs": [
    {
     "name": "stdout",
     "output_type": "stream",
     "text": [
      "PHYS336 has available times MWF8 MWF9 MWF10:30 MWF11:30 "
     ]
    }
   ],
   "source": [
    "ga.allCourseTimes.getCourseTimes('PHYS336').print()"
   ]
  },
  {
   "cell_type": "code",
   "execution_count": 4,
   "metadata": {},
   "outputs": [
    {
     "name": "stdout",
     "output_type": "stream",
     "text": [
      "PHYS391 has available times TR8 TR10:30 "
     ]
    }
   ],
   "source": [
    "ga.allCourseTimes.getCourseTimes('PHYS391').print()"
   ]
  },
  {
   "cell_type": "code",
   "execution_count": 5,
   "metadata": {},
   "outputs": [
    {
     "name": "stdout",
     "output_type": "stream",
     "text": [
      "BIOL246L-1 has available times M1-4 "
     ]
    }
   ],
   "source": [
    "ga.allCourseTimes.getCourseTimes('BIOL246L-1').print()"
   ]
  },
  {
   "cell_type": "code",
   "execution_count": 6,
   "metadata": {},
   "outputs": [
    {
     "name": "stdout",
     "output_type": "stream",
     "text": [
      "CHEM342L has available times M1-5 W1-5 "
     ]
    }
   ],
   "source": [
    "ga.allCourseTimes.getCourseTimes('CHEM342L').print()"
   ]
  },
  {
   "cell_type": "code",
   "execution_count": 7,
   "metadata": {},
   "outputs": [
    {
     "name": "stdout",
     "output_type": "stream",
     "text": [
      "BIOL144-2 has available times MWF8 MWF9 MWF10:30 MWF11:30 "
     ]
    }
   ],
   "source": [
    "ga.allCourseTimes.getCourseTimes(5).print()"
   ]
  },
  {
   "cell_type": "code",
   "execution_count": 8,
   "metadata": {},
   "outputs": [
    {
     "data": {
      "text/plain": [
       "True"
      ]
     },
     "execution_count": 8,
     "metadata": {},
     "output_type": "execute_result"
    }
   ],
   "source": [
    "ga.allCourseTimes.getCourseTimes('PHYS336').contains('MWF11:30')"
   ]
  },
  {
   "cell_type": "code",
   "execution_count": 9,
   "metadata": {},
   "outputs": [
    {
     "name": "stdout",
     "output_type": "stream",
     "text": [
      "Rand in Math has courses MATH234 MATH241-2 MATH242 "
     ]
    }
   ],
   "source": [
    "ga.allFacCourses.getFacCourses('Rand').print()"
   ]
  },
  {
   "cell_type": "code",
   "execution_count": 10,
   "metadata": {},
   "outputs": [
    {
     "name": "stdout",
     "output_type": "stream",
     "text": [
      "Tate in Biology has courses BIOL233-1 BIOL233-2 BIOL246-3 BIOL246-4 "
     ]
    }
   ],
   "source": [
    "ga.allFacCourses.getFacCourses('Tate').print()"
   ]
  },
  {
   "cell_type": "code",
   "execution_count": 11,
   "metadata": {},
   "outputs": [
    {
     "name": "stdout",
     "output_type": "stream",
     "text": [
      "Abbasian in Math has courses DAST532 MATH333 STAT374-3 STAT375-1 STAT375-2 "
     ]
    }
   ],
   "source": [
    "ga.allFacCourses.getFacCourses('Abbasian').print()"
   ]
  },
  {
   "cell_type": "code",
   "execution_count": 12,
   "metadata": {},
   "outputs": [
    {
     "name": "stdout",
     "output_type": "stream",
     "text": [
      "Ruane- in Chemistry has courses CHEM412 "
     ]
    }
   ],
   "source": [
    "ga.allFacCourses.getFacCourses('Ruane-').print()"
   ]
  },
  {
   "cell_type": "code",
   "execution_count": 13,
   "metadata": {},
   "outputs": [
    {
     "data": {
      "text/plain": [
       "'Gustafson'"
      ]
     },
     "execution_count": 13,
     "metadata": {},
     "output_type": "execute_result"
    }
   ],
   "source": [
    "ga.allFacCourses.getFacNameByCourse('BIOL144-2')"
   ]
  },
  {
   "cell_type": "code",
   "execution_count": 14,
   "metadata": {},
   "outputs": [
    {
     "data": {
      "text/plain": [
       "'Chupik'"
      ]
     },
     "execution_count": 14,
     "metadata": {},
     "output_type": "execute_result"
    }
   ],
   "source": [
    "ga.allFacCourses.getFacNameByCourse('CHEM144-2')"
   ]
  },
  {
   "cell_type": "code",
   "execution_count": 15,
   "metadata": {},
   "outputs": [
    {
     "data": {
      "text/plain": [
       "['PHYS142', 'PHYS336', 'PHYS391', 'PHYS438']"
      ]
     },
     "execution_count": 15,
     "metadata": {},
     "output_type": "execute_result"
    }
   ],
   "source": [
    "ga.allFacCourses.getFacOtherCoursesByCourse('PHYS371')"
   ]
  },
  {
   "cell_type": "markdown",
   "metadata": {},
   "source": [
    "## Conflicts"
   ]
  },
  {
   "cell_type": "code",
   "execution_count": 16,
   "metadata": {},
   "outputs": [
    {
     "data": {
      "text/plain": [
       "True"
      ]
     },
     "execution_count": 16,
     "metadata": {},
     "output_type": "execute_result"
    }
   ],
   "source": [
    "ga.allConflicts.getPenalty('MATH333', 'PHYS371') == 5"
   ]
  },
  {
   "cell_type": "code",
   "execution_count": 17,
   "metadata": {},
   "outputs": [
    {
     "data": {
      "text/plain": [
       "True"
      ]
     },
     "execution_count": 17,
     "metadata": {},
     "output_type": "execute_result"
    }
   ],
   "source": [
    "ga.allConflicts.getPenalty('PHYS371', 'MATH333') == 5"
   ]
  },
  {
   "cell_type": "code",
   "execution_count": 18,
   "metadata": {},
   "outputs": [
    {
     "name": "stdout",
     "output_type": "stream",
     "text": [
      "5 5 5 5 5\n"
     ]
    }
   ],
   "source": [
    "print(ga.allConflicts.getPenalty('BIOL432', 'BIOL437'), \\\n",
    "      ga.allConflicts.getPenalty('BIOL432', 'BIOL471'), \\\n",
    "      ga.allConflicts.getPenalty('BIOL432', 'BIOL473'), \\\n",
    "      ga.allConflicts.getPenalty('BIOL437', 'BIOL471'), \\\n",
    "      ga.allConflicts.getPenalty('BIOL471', 'BIOL473'))\n",
    "# 5 5 5 5 5"
   ]
  },
  {
   "cell_type": "code",
   "execution_count": 19,
   "metadata": {},
   "outputs": [
    {
     "data": {
      "text/plain": [
       "True"
      ]
     },
     "execution_count": 19,
     "metadata": {},
     "output_type": "execute_result"
    }
   ],
   "source": [
    "ga.allConflicts.getPenalty('CSCI436', 'PHYS240') == 3"
   ]
  },
  {
   "cell_type": "code",
   "execution_count": 20,
   "metadata": {},
   "outputs": [
    {
     "name": "stdout",
     "output_type": "stream",
     "text": [
      "3 5 5\n"
     ]
    }
   ],
   "source": [
    "print(ga.allConflicts.getPenalty('MATH334', 'CHEM249'), \\\n",
    "      ga.allConflicts.getPenalty('MATH334', 'CHEM435'), \\\n",
    "      ga.allConflicts.getPenalty('CHEM435', 'CHEM249'))\n",
    "# 3 5 5"
   ]
  },
  {
   "cell_type": "code",
   "execution_count": 21,
   "metadata": {},
   "outputs": [
    {
     "data": {
      "text/plain": [
       "True"
      ]
     },
     "execution_count": 21,
     "metadata": {},
     "output_type": "execute_result"
    }
   ],
   "source": [
    "len(ga.allConflicts.allConflicts) == 93"
   ]
  },
  {
   "cell_type": "code",
   "execution_count": null,
   "metadata": {},
   "outputs": [],
   "source": [
    "ga.allConflicts.print()"
   ]
  },
  {
   "cell_type": "markdown",
   "metadata": {},
   "source": [
    "# Schedule Creation"
   ]
  },
  {
   "cell_type": "code",
   "execution_count": 16,
   "metadata": {},
   "outputs": [],
   "source": [
    "sch = ga.CreateRandomScheduleBasic()"
   ]
  },
  {
   "cell_type": "code",
   "execution_count": 17,
   "metadata": {},
   "outputs": [
    {
     "name": "stdout",
     "output_type": "stream",
     "text": [
      "Reached an impasse when building initial schedule with trying to schedule courses for Bray. Trying again...\n"
     ]
    }
   ],
   "source": [
    "sch = ga.CreateRandomSchedule()"
   ]
  },
  {
   "cell_type": "markdown",
   "metadata": {},
   "source": [
    "# Importing and Exporting"
   ]
  },
  {
   "cell_type": "code",
   "execution_count": 18,
   "metadata": {},
   "outputs": [],
   "source": [
    "def compareDicts(initial, modified):\n",
    "    for k, v in initial.items():\n",
    "        if k in modified:\n",
    "            if modified[k] != initial[k]:\n",
    "                print(k, initial[k], 'changed to', k, modified[k])\n",
    "        else:\n",
    "            print('key', k, '(', v, ') was deleted')\n",
    "    for k, v in modified.items():\n",
    "        if k not in initial:\n",
    "            print('key', k, '(', v, ') was added')"
   ]
  },
  {
   "cell_type": "code",
   "execution_count": 19,
   "metadata": {},
   "outputs": [],
   "source": [
    "sch2 = ga.StepSchedule(sch)"
   ]
  },
  {
   "cell_type": "code",
   "execution_count": 20,
   "metadata": {},
   "outputs": [],
   "source": [
    "sch2 = ga.StepSchedule(sch2)"
   ]
  },
  {
   "cell_type": "code",
   "execution_count": 21,
   "metadata": {},
   "outputs": [
    {
     "name": "stdout",
     "output_type": "stream",
     "text": [
      "PHYS240 MWF11:30 changed to PHYS240 MWF9\n",
      "PHYS336 MWF8 changed to PHYS336 MWF10:30\n"
     ]
    }
   ],
   "source": [
    "compareDicts(sch, sch2)"
   ]
  },
  {
   "cell_type": "code",
   "execution_count": 22,
   "metadata": {},
   "outputs": [
    {
     "data": {
      "text/plain": [
       "33"
      ]
     },
     "execution_count": 22,
     "metadata": {},
     "output_type": "execute_result"
    }
   ],
   "source": [
    "ga.accumulatePenalties(sch)"
   ]
  },
  {
   "cell_type": "code",
   "execution_count": 23,
   "metadata": {},
   "outputs": [
    {
     "name": "stdout",
     "output_type": "stream",
     "text": [
      "BIOL437 and CHEM342 conflict with penalty 5\n",
      "BIOL432 and CHEM249 conflict with penalty 5\n",
      "CHEM249 and MATH334 conflict with penalty 3\n",
      "MATH242 and PHYS240 conflict with penalty 5\n",
      "BIOL471 and BIOL473 conflict with penalty 5\n",
      "BIOL414 and CHEM342L conflict with penalty 5\n",
      "PHYS384L and CSCI436 conflict with penalty 5\n",
      "The total number of penalties for the schedule is 33\n",
      "BIOL437 and CHEM342 conflict with penalty 5\n",
      "BIOL432 and CHEM249 conflict with penalty 5\n",
      "CHEM143 and PHYS240 conflict with penalty 1\n",
      "CHEM249 and MATH334 conflict with penalty 3\n",
      "PHYS240 and PHYS371 conflict with penalty 3\n",
      "BIOL471 and BIOL473 conflict with penalty 5\n",
      "BIOL414 and CHEM342L conflict with penalty 5\n",
      "PHYS384 and PHYS336 conflict with penalty 5\n",
      "PHYS384L and CSCI436 conflict with penalty 5\n",
      "The total number of penalties for the schedule is 37\n"
     ]
    }
   ],
   "source": [
    "ga.summary(sch)\n",
    "ga.summary(sch2)"
   ]
  },
  {
   "cell_type": "code",
   "execution_count": 15,
   "metadata": {},
   "outputs": [],
   "source": [
    "ga.exportSch('testexport.csv', sch)"
   ]
  },
  {
   "cell_type": "code",
   "execution_count": 26,
   "metadata": {},
   "outputs": [],
   "source": [
    "ga.exportSchDetail('testexport detailed.csv', sch, addCrossListings = False)"
   ]
  },
  {
   "cell_type": "code",
   "execution_count": 24,
   "metadata": {},
   "outputs": [],
   "source": [
    "sch3 = ga.importSch('testexport.csv')"
   ]
  },
  {
   "cell_type": "code",
   "execution_count": null,
   "metadata": {},
   "outputs": [],
   "source": [
    "compareDicts(sch, sch3)"
   ]
  },
  {
   "cell_type": "code",
   "execution_count": null,
   "metadata": {},
   "outputs": [],
   "source": []
  }
 ],
 "metadata": {
  "kernelspec": {
   "display_name": "Python 3",
   "language": "python",
   "name": "python3"
  },
  "language_info": {
   "codemirror_mode": {
    "name": "ipython",
    "version": 3
   },
   "file_extension": ".py",
   "mimetype": "text/x-python",
   "name": "python",
   "nbconvert_exporter": "python",
   "pygments_lexer": "ipython3",
   "version": "3.7.3"
  }
 },
 "nbformat": 4,
 "nbformat_minor": 2
}
